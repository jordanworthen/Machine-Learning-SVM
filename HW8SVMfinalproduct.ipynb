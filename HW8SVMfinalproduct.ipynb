{
 "cells": [
  {
   "cell_type": "markdown",
   "metadata": {},
   "source": [
    "# Question 1 EDA"
   ]
  },
  {
   "cell_type": "code",
   "execution_count": 1,
   "metadata": {},
   "outputs": [],
   "source": [
    "import numpy as np\n",
    "import pandas as pd\n",
    "import matplotlib.pyplot as plt\n",
    "import seaborn as sns\n",
    "sns.set()  #if you want to use seaborn themes with matplotlib functions\n",
    "import warnings\n",
    "warnings.filterwarnings('ignore')"
   ]
  },
  {
   "cell_type": "code",
   "execution_count": 2,
   "metadata": {},
   "outputs": [
    {
     "data": {
      "text/html": [
       "<div>\n",
       "<style scoped>\n",
       "    .dataframe tbody tr th:only-of-type {\n",
       "        vertical-align: middle;\n",
       "    }\n",
       "\n",
       "    .dataframe tbody tr th {\n",
       "        vertical-align: top;\n",
       "    }\n",
       "\n",
       "    .dataframe thead th {\n",
       "        text-align: right;\n",
       "    }\n",
       "</style>\n",
       "<table border=\"1\" class=\"dataframe\">\n",
       "  <thead>\n",
       "    <tr style=\"text-align: right;\">\n",
       "      <th></th>\n",
       "      <th>Sold Price</th>\n",
       "      <th>DOM</th>\n",
       "      <th>Garage Capacity</th>\n",
       "      <th>HOA Fee</th>\n",
       "      <th>Irregular Shape</th>\n",
       "      <th>Quadrant</th>\n",
       "      <th>School District</th>\n",
       "      <th>Sold Terms</th>\n",
       "      <th>Total Bedrooms</th>\n",
       "      <th>Total Bathrooms</th>\n",
       "      <th>Total Square Feet</th>\n",
       "      <th>Year Built</th>\n",
       "      <th>Zip</th>\n",
       "      <th>year_sold</th>\n",
       "      <th>month_sold</th>\n",
       "      <th>built_after_2000</th>\n",
       "    </tr>\n",
       "  </thead>\n",
       "  <tbody>\n",
       "    <tr>\n",
       "      <th>0</th>\n",
       "      <td>176000</td>\n",
       "      <td>5</td>\n",
       "      <td>2</td>\n",
       "      <td>0</td>\n",
       "      <td>No</td>\n",
       "      <td>NW</td>\n",
       "      <td>Cache</td>\n",
       "      <td>FHA</td>\n",
       "      <td>3</td>\n",
       "      <td>1</td>\n",
       "      <td>1031</td>\n",
       "      <td>1974</td>\n",
       "      <td>84335</td>\n",
       "      <td>2018</td>\n",
       "      <td>9</td>\n",
       "      <td>0</td>\n",
       "    </tr>\n",
       "    <tr>\n",
       "      <th>1</th>\n",
       "      <td>225000</td>\n",
       "      <td>6</td>\n",
       "      <td>2</td>\n",
       "      <td>0</td>\n",
       "      <td>No</td>\n",
       "      <td>NW</td>\n",
       "      <td>Cache</td>\n",
       "      <td>Conventional</td>\n",
       "      <td>4</td>\n",
       "      <td>2</td>\n",
       "      <td>2091</td>\n",
       "      <td>1995</td>\n",
       "      <td>84335</td>\n",
       "      <td>2018</td>\n",
       "      <td>7</td>\n",
       "      <td>0</td>\n",
       "    </tr>\n",
       "    <tr>\n",
       "      <th>2</th>\n",
       "      <td>274900</td>\n",
       "      <td>14</td>\n",
       "      <td>2</td>\n",
       "      <td>0</td>\n",
       "      <td>No</td>\n",
       "      <td>NW</td>\n",
       "      <td>Cache</td>\n",
       "      <td>Conventional</td>\n",
       "      <td>3</td>\n",
       "      <td>1</td>\n",
       "      <td>2016</td>\n",
       "      <td>1980</td>\n",
       "      <td>84335</td>\n",
       "      <td>2018</td>\n",
       "      <td>11</td>\n",
       "      <td>0</td>\n",
       "    </tr>\n",
       "    <tr>\n",
       "      <th>3</th>\n",
       "      <td>175000</td>\n",
       "      <td>16</td>\n",
       "      <td>1</td>\n",
       "      <td>0</td>\n",
       "      <td>No</td>\n",
       "      <td>NW</td>\n",
       "      <td>Cache</td>\n",
       "      <td>USDA Rural Development</td>\n",
       "      <td>4</td>\n",
       "      <td>1</td>\n",
       "      <td>1920</td>\n",
       "      <td>1978</td>\n",
       "      <td>84335</td>\n",
       "      <td>2018</td>\n",
       "      <td>6</td>\n",
       "      <td>0</td>\n",
       "    </tr>\n",
       "    <tr>\n",
       "      <th>4</th>\n",
       "      <td>179000</td>\n",
       "      <td>29</td>\n",
       "      <td>0</td>\n",
       "      <td>0</td>\n",
       "      <td>No</td>\n",
       "      <td>NW</td>\n",
       "      <td>Cache</td>\n",
       "      <td>Cash</td>\n",
       "      <td>4</td>\n",
       "      <td>2</td>\n",
       "      <td>1329</td>\n",
       "      <td>1976</td>\n",
       "      <td>84335</td>\n",
       "      <td>2018</td>\n",
       "      <td>9</td>\n",
       "      <td>0</td>\n",
       "    </tr>\n",
       "  </tbody>\n",
       "</table>\n",
       "</div>"
      ],
      "text/plain": [
       "   Sold Price  DOM  Garage Capacity  HOA Fee Irregular Shape Quadrant  \\\n",
       "0      176000    5                2        0              No       NW   \n",
       "1      225000    6                2        0              No       NW   \n",
       "2      274900   14                2        0              No       NW   \n",
       "3      175000   16                1        0              No       NW   \n",
       "4      179000   29                0        0              No       NW   \n",
       "\n",
       "  School District              Sold Terms  Total Bedrooms  Total Bathrooms  \\\n",
       "0           Cache                     FHA               3                1   \n",
       "1           Cache            Conventional               4                2   \n",
       "2           Cache            Conventional               3                1   \n",
       "3           Cache  USDA Rural Development               4                1   \n",
       "4           Cache                    Cash               4                2   \n",
       "\n",
       "   Total Square Feet  Year Built    Zip  year_sold  month_sold  \\\n",
       "0               1031        1974  84335       2018           9   \n",
       "1               2091        1995  84335       2018           7   \n",
       "2               2016        1980  84335       2018          11   \n",
       "3               1920        1978  84335       2018           6   \n",
       "4               1329        1976  84335       2018           9   \n",
       "\n",
       "   built_after_2000  \n",
       "0                 0  \n",
       "1                 0  \n",
       "2                 0  \n",
       "3                 0  \n",
       "4                 0  "
      ]
     },
     "execution_count": 2,
     "metadata": {},
     "output_type": "execute_result"
    }
   ],
   "source": [
    "rand_state = 1000\n",
    "df = pd.read_csv(\"https://raw.githubusercontent.com/PJalgotrader/Machine_Learning-USU/main/HW_data/HW8/Logan_housing.csv\")\n",
    "df.head()"
   ]
  },
  {
   "cell_type": "code",
   "execution_count": 3,
   "metadata": {},
   "outputs": [
    {
     "name": "stdout",
     "output_type": "stream",
     "text": [
      "<class 'pandas.core.frame.DataFrame'>\n",
      "RangeIndex: 4110 entries, 0 to 4109\n",
      "Data columns (total 16 columns):\n",
      " #   Column             Non-Null Count  Dtype \n",
      "---  ------             --------------  ----- \n",
      " 0   Sold Price         4110 non-null   int64 \n",
      " 1   DOM                4110 non-null   int64 \n",
      " 2   Garage Capacity    4110 non-null   int64 \n",
      " 3   HOA Fee            4110 non-null   int64 \n",
      " 4   Irregular Shape    4110 non-null   object\n",
      " 5   Quadrant           4110 non-null   object\n",
      " 6   School District    4110 non-null   object\n",
      " 7   Sold Terms         4110 non-null   object\n",
      " 8   Total Bedrooms     4110 non-null   int64 \n",
      " 9   Total Bathrooms    4110 non-null   int64 \n",
      " 10  Total Square Feet  4110 non-null   int64 \n",
      " 11  Year Built         4110 non-null   int64 \n",
      " 12  Zip                4110 non-null   int64 \n",
      " 13  year_sold          4110 non-null   int64 \n",
      " 14  month_sold         4110 non-null   int64 \n",
      " 15  built_after_2000   4110 non-null   int64 \n",
      "dtypes: int64(12), object(4)\n",
      "memory usage: 513.9+ KB\n"
     ]
    }
   ],
   "source": [
    "df.info()"
   ]
  },
  {
   "cell_type": "markdown",
   "metadata": {},
   "source": [
    "### Decripting categorical variables"
   ]
  },
  {
   "cell_type": "code",
   "execution_count": 4,
   "metadata": {},
   "outputs": [
    {
     "data": {
      "text/plain": [
       "count      4110\n",
       "unique        2\n",
       "top       Cache\n",
       "freq       2735\n",
       "Name: School District, dtype: object"
      ]
     },
     "execution_count": 4,
     "metadata": {},
     "output_type": "execute_result"
    }
   ],
   "source": [
    "df[\"School District\"].describe()"
   ]
  },
  {
   "cell_type": "code",
   "execution_count": 5,
   "metadata": {},
   "outputs": [
    {
     "data": {
      "text/plain": [
       "array(['Cache', 'Logan'], dtype=object)"
      ]
     },
     "execution_count": 5,
     "metadata": {},
     "output_type": "execute_result"
    }
   ],
   "source": [
    "df['School District'].unique()"
   ]
  },
  {
   "cell_type": "code",
   "execution_count": 6,
   "metadata": {},
   "outputs": [
    {
     "data": {
      "text/plain": [
       "count     4110\n",
       "unique       4\n",
       "top         NE\n",
       "freq      1164\n",
       "Name: Quadrant, dtype: object"
      ]
     },
     "execution_count": 6,
     "metadata": {},
     "output_type": "execute_result"
    }
   ],
   "source": [
    "df[\"Quadrant\"].describe()"
   ]
  },
  {
   "cell_type": "code",
   "execution_count": 7,
   "metadata": {},
   "outputs": [
    {
     "data": {
      "text/plain": [
       "array(['NW', 'SE', 'NE', 'SW'], dtype=object)"
      ]
     },
     "execution_count": 7,
     "metadata": {},
     "output_type": "execute_result"
    }
   ],
   "source": [
    "df[\"Quadrant\"].unique()\n"
   ]
  },
  {
   "cell_type": "markdown",
   "metadata": {},
   "source": [
    "### Average by Different Categories"
   ]
  },
  {
   "cell_type": "code",
   "execution_count": 8,
   "metadata": {},
   "outputs": [
    {
     "data": {
      "text/html": [
       "<div>\n",
       "<style scoped>\n",
       "    .dataframe tbody tr th:only-of-type {\n",
       "        vertical-align: middle;\n",
       "    }\n",
       "\n",
       "    .dataframe tbody tr th {\n",
       "        vertical-align: top;\n",
       "    }\n",
       "\n",
       "    .dataframe thead th {\n",
       "        text-align: right;\n",
       "    }\n",
       "</style>\n",
       "<table border=\"1\" class=\"dataframe\">\n",
       "  <thead>\n",
       "    <tr style=\"text-align: right;\">\n",
       "      <th></th>\n",
       "      <th>Sold Price</th>\n",
       "    </tr>\n",
       "    <tr>\n",
       "      <th>Total Bedrooms</th>\n",
       "      <th></th>\n",
       "    </tr>\n",
       "  </thead>\n",
       "  <tbody>\n",
       "    <tr>\n",
       "      <th>1</th>\n",
       "      <td>182093.750000</td>\n",
       "    </tr>\n",
       "    <tr>\n",
       "      <th>2</th>\n",
       "      <td>180865.748731</td>\n",
       "    </tr>\n",
       "    <tr>\n",
       "      <th>3</th>\n",
       "      <td>242974.382038</td>\n",
       "    </tr>\n",
       "    <tr>\n",
       "      <th>4</th>\n",
       "      <td>285782.661064</td>\n",
       "    </tr>\n",
       "    <tr>\n",
       "      <th>5</th>\n",
       "      <td>334245.934754</td>\n",
       "    </tr>\n",
       "    <tr>\n",
       "      <th>6</th>\n",
       "      <td>402658.360000</td>\n",
       "    </tr>\n",
       "    <tr>\n",
       "      <th>7</th>\n",
       "      <td>557379.296296</td>\n",
       "    </tr>\n",
       "    <tr>\n",
       "      <th>8</th>\n",
       "      <td>573600.000000</td>\n",
       "    </tr>\n",
       "    <tr>\n",
       "      <th>9</th>\n",
       "      <td>960000.000000</td>\n",
       "    </tr>\n",
       "  </tbody>\n",
       "</table>\n",
       "</div>"
      ],
      "text/plain": [
       "                   Sold Price\n",
       "Total Bedrooms               \n",
       "1               182093.750000\n",
       "2               180865.748731\n",
       "3               242974.382038\n",
       "4               285782.661064\n",
       "5               334245.934754\n",
       "6               402658.360000\n",
       "7               557379.296296\n",
       "8               573600.000000\n",
       "9               960000.000000"
      ]
     },
     "execution_count": 8,
     "metadata": {},
     "output_type": "execute_result"
    }
   ],
   "source": [
    "mean=pd.pivot_table(df,\n",
    "                    index=\"Total Bedrooms\",\n",
    "                    values=\"Sold Price\",\n",
    "                    aggfunc='mean',)\n",
    "mean"
   ]
  },
  {
   "cell_type": "code",
   "execution_count": 9,
   "metadata": {},
   "outputs": [
    {
     "data": {
      "image/png": "[encoded data removed]",
      "text/plain": [
       "<Figure size 864x432 with 1 Axes>"
      ]
     },
     "metadata": {},
     "output_type": "display_data"
    }
   ],
   "source": [
    "plt.figure(figsize=(12,6))\n",
    "sns.barplot(y = 'Sold Price', x = 'Total Bedrooms', data = df)\n",
    "plt.title('Average sell price on total bedrooms')\n",
    "plt.show()"
   ]
  },
  {
   "cell_type": "markdown",
   "metadata": {},
   "source": [
    "As we expect to see, the more numbers of rooms the house has, the highest the average price for the house."
   ]
  },
  {
   "cell_type": "code",
   "execution_count": 10,
   "metadata": {},
   "outputs": [],
   "source": [
    "mean=pd.pivot_table(df,\n",
    "                    index=\"Total Bathrooms\",\n",
    "                    values=\"Sold Price\",\n",
    "                    aggfunc='mean',)"
   ]
  },
  {
   "cell_type": "code",
   "execution_count": 11,
   "metadata": {},
   "outputs": [
    {
     "data": {
      "text/html": [
       "<div>\n",
       "<style scoped>\n",
       "    .dataframe tbody tr th:only-of-type {\n",
       "        vertical-align: middle;\n",
       "    }\n",
       "\n",
       "    .dataframe tbody tr th {\n",
       "        vertical-align: top;\n",
       "    }\n",
       "\n",
       "    .dataframe thead th {\n",
       "        text-align: right;\n",
       "    }\n",
       "</style>\n",
       "<table border=\"1\" class=\"dataframe\">\n",
       "  <thead>\n",
       "    <tr style=\"text-align: right;\">\n",
       "      <th></th>\n",
       "      <th>Sold Price</th>\n",
       "    </tr>\n",
       "    <tr>\n",
       "      <th>Total Bathrooms</th>\n",
       "      <th></th>\n",
       "    </tr>\n",
       "  </thead>\n",
       "  <tbody>\n",
       "    <tr>\n",
       "      <th>1</th>\n",
       "      <td>187756.547425</td>\n",
       "    </tr>\n",
       "    <tr>\n",
       "      <th>2</th>\n",
       "      <td>243488.653333</td>\n",
       "    </tr>\n",
       "    <tr>\n",
       "      <th>3</th>\n",
       "      <td>291792.085153</td>\n",
       "    </tr>\n",
       "    <tr>\n",
       "      <th>4</th>\n",
       "      <td>432914.455621</td>\n",
       "    </tr>\n",
       "    <tr>\n",
       "      <th>5</th>\n",
       "      <td>586952.351852</td>\n",
       "    </tr>\n",
       "    <tr>\n",
       "      <th>6</th>\n",
       "      <td>739384.615385</td>\n",
       "    </tr>\n",
       "    <tr>\n",
       "      <th>7</th>\n",
       "      <td>706000.000000</td>\n",
       "    </tr>\n",
       "  </tbody>\n",
       "</table>\n",
       "</div>"
      ],
      "text/plain": [
       "                    Sold Price\n",
       "Total Bathrooms               \n",
       "1                187756.547425\n",
       "2                243488.653333\n",
       "3                291792.085153\n",
       "4                432914.455621\n",
       "5                586952.351852\n",
       "6                739384.615385\n",
       "7                706000.000000"
      ]
     },
     "execution_count": 11,
     "metadata": {},
     "output_type": "execute_result"
    }
   ],
   "source": [
    "mean\n"
   ]
  },
  {
   "cell_type": "code",
   "execution_count": 12,
   "metadata": {},
   "outputs": [
    {
     "data": {
      "image/png": "[encoded data removed]",
      "text/plain": [
       "<Figure size 864x432 with 1 Axes>"
      ]
     },
     "metadata": {},
     "output_type": "display_data"
    }
   ],
   "source": [
    "plt.figure(figsize=(12,6))\n",
    "sns.barplot(y = 'Sold Price', x = 'Total Bathrooms', data = df)\n",
    "plt.title('Average sell price on total bedrooms')\n",
    "plt.show()"
   ]
  },
  {
   "cell_type": "code",
   "execution_count": null,
   "metadata": {},
   "outputs": [],
   "source": []
  },
  {
   "cell_type": "markdown",
   "metadata": {},
   "source": [
    "We observe a similar pattern for # of Bathrooms and House Price. The more numbers of bathrooms the house has, the highest the average price for the house. Bathrooms and bedrooms should be highly correlated as more people live in a house, the need for bedrooms and bathrooms increases. "
   ]
  },
  {
   "cell_type": "code",
   "execution_count": 13,
   "metadata": {},
   "outputs": [
    {
     "data": {
      "text/plain": [
       "(0.5404128273386507, 1.87257303263783e-310)"
      ]
     },
     "execution_count": 13,
     "metadata": {},
     "output_type": "execute_result"
    }
   ],
   "source": [
    "from scipy.stats import pearsonr\n",
    "corr = pearsonr(df['Total Bathrooms'], df['Total Bedrooms'])\n",
    "corr"
   ]
  },
  {
   "cell_type": "markdown",
   "metadata": {},
   "source": [
    "The two variables are 54% correlated."
   ]
  },
  {
   "cell_type": "code",
   "execution_count": 14,
   "metadata": {},
   "outputs": [
    {
     "data": {
      "image/png": "[encoded data removed]",
      "text/plain": [
       "<Figure size 864x432 with 1 Axes>"
      ]
     },
     "metadata": {},
     "output_type": "display_data"
    }
   ],
   "source": [
    "plt.figure(figsize=(12,6))\n",
    "sns.scatterplot(y = 'Total Bedrooms', x = 'Total Bathrooms', data = df)\n",
    "plt.title('Correlation of Bedrooms to Bathrooms')\n",
    "plt.show()"
   ]
  },
  {
   "cell_type": "code",
   "execution_count": 15,
   "metadata": {},
   "outputs": [
    {
     "data": {
      "image/png": "[encoded data removed]",
      "text/plain": [
       "<Figure size 864x432 with 1 Axes>"
      ]
     },
     "metadata": {},
     "output_type": "display_data"
    }
   ],
   "source": [
    "plt.figure(figsize=(12,6))\n",
    "sns.barplot(y = 'Sold Price', x = 'School District', data = df)\n",
    "plt.title('Average sell price on total bathrooms')\n",
    "plt.show()"
   ]
  },
  {
   "cell_type": "markdown",
   "metadata": {},
   "source": [
    "The houses in the Cache Disctric have higher average price by more than 50k. I am curious to know if the Cache School Dsitrcit is expcted to provided higher level of education for students.\n",
    "\n"
   ]
  },
  {
   "cell_type": "code",
   "execution_count": 16,
   "metadata": {},
   "outputs": [
    {
     "data": {
      "text/plain": [
       "0"
      ]
     },
     "execution_count": 16,
     "metadata": {},
     "output_type": "execute_result"
    }
   ],
   "source": [
    "df[df['Year Built']==0]['Year Built'].count() #count the different values for the variable YEAR BUILT that are equal to 0\n",
    "\n"
   ]
  },
  {
   "cell_type": "markdown",
   "metadata": {},
   "source": [
    "We wanted to check if there was any missing value before performing any further analysis in the \"Year built\" variable"
   ]
  },
  {
   "cell_type": "code",
   "execution_count": 17,
   "metadata": {},
   "outputs": [
    {
     "data": {
      "text/plain": [
       "count    4110.000000\n",
       "mean     1989.287105\n",
       "std        31.284714\n",
       "min      1879.000000\n",
       "25%      1976.000000\n",
       "50%      2001.000000\n",
       "75%      2012.000000\n",
       "max      2020.000000\n",
       "Name: Year Built, dtype: float64"
      ]
     },
     "execution_count": 17,
     "metadata": {},
     "output_type": "execute_result"
    }
   ],
   "source": [
    "df['Year Built'].describe()"
   ]
  },
  {
   "cell_type": "markdown",
   "metadata": {},
   "source": [
    "The variable has a range of 141 possible values so we could create 14 bins of 10 values approax."
   ]
  },
  {
   "cell_type": "code",
   "execution_count": 18,
   "metadata": {},
   "outputs": [
    {
     "data": {
      "image/png": "[encoded data removed]",
      "text/plain": [
       "<Figure size 864x432 with 1 Axes>"
      ]
     },
     "metadata": {},
     "output_type": "display_data"
    }
   ],
   "source": [
    "plt.figure(figsize=(12,6))\n",
    "sns.distplot(df['Year Built'], bins=14, rug=True)\n",
    "plt.title('Frequency of Houses sold by year build')\n",
    "plt.show()"
   ]
  },
  {
   "cell_type": "code",
   "execution_count": 19,
   "metadata": {},
   "outputs": [
    {
     "data": {
      "image/png": "[encoded data removed]",
      "text/plain": [
       "<Figure size 2160x1440 with 1 Axes>"
      ]
     },
     "metadata": {},
     "output_type": "display_data"
    }
   ],
   "source": [
    "df2=df.copy()\n",
    "df2['bucket Year Built'] = pd.cut(df2['Year Built'], 14)\n",
    "plt.figure(figsize=(30,20))\n",
    "sns.boxplot(y = 'Sold Price', x = 'bucket Year Built', data = df2 )\n",
    "plt.title('Average price by year built')\n",
    "plt.show()"
   ]
  },
  {
   "cell_type": "code",
   "execution_count": 20,
   "metadata": {},
   "outputs": [
    {
     "data": {
      "text/html": [
       "<div>\n",
       "<style scoped>\n",
       "    .dataframe tbody tr th:only-of-type {\n",
       "        vertical-align: middle;\n",
       "    }\n",
       "\n",
       "    .dataframe tbody tr th {\n",
       "        vertical-align: top;\n",
       "    }\n",
       "\n",
       "    .dataframe thead th {\n",
       "        text-align: right;\n",
       "    }\n",
       "</style>\n",
       "<table border=\"1\" class=\"dataframe\">\n",
       "  <thead>\n",
       "    <tr style=\"text-align: right;\">\n",
       "      <th></th>\n",
       "      <th>Sold Price</th>\n",
       "    </tr>\n",
       "    <tr>\n",
       "      <th>bucket Year Built</th>\n",
       "      <th></th>\n",
       "    </tr>\n",
       "  </thead>\n",
       "  <tbody>\n",
       "    <tr>\n",
       "      <th>(1878.859, 1889.071]</th>\n",
       "      <td>228566.666667</td>\n",
       "    </tr>\n",
       "    <tr>\n",
       "      <th>(1889.071, 1899.143]</th>\n",
       "      <td>231356.666667</td>\n",
       "    </tr>\n",
       "    <tr>\n",
       "      <th>(1899.143, 1909.214]</th>\n",
       "      <td>224704.320000</td>\n",
       "    </tr>\n",
       "    <tr>\n",
       "      <th>(1909.214, 1919.286]</th>\n",
       "      <td>219615.964789</td>\n",
       "    </tr>\n",
       "    <tr>\n",
       "      <th>(1919.286, 1929.357]</th>\n",
       "      <td>211430.653465</td>\n",
       "    </tr>\n",
       "    <tr>\n",
       "      <th>(1929.357, 1939.429]</th>\n",
       "      <td>223391.128571</td>\n",
       "    </tr>\n",
       "    <tr>\n",
       "      <th>(1939.429, 1949.5]</th>\n",
       "      <td>219768.913978</td>\n",
       "    </tr>\n",
       "    <tr>\n",
       "      <th>(1949.5, 1959.571]</th>\n",
       "      <td>249723.663934</td>\n",
       "    </tr>\n",
       "    <tr>\n",
       "      <th>(1959.571, 1969.643]</th>\n",
       "      <td>275596.612121</td>\n",
       "    </tr>\n",
       "    <tr>\n",
       "      <th>(1969.643, 1979.714]</th>\n",
       "      <td>250454.265027</td>\n",
       "    </tr>\n",
       "    <tr>\n",
       "      <th>(1979.714, 1989.786]</th>\n",
       "      <td>260649.729358</td>\n",
       "    </tr>\n",
       "    <tr>\n",
       "      <th>(1989.786, 1999.857]</th>\n",
       "      <td>280358.006791</td>\n",
       "    </tr>\n",
       "    <tr>\n",
       "      <th>(1999.857, 2009.929]</th>\n",
       "      <td>315626.252128</td>\n",
       "    </tr>\n",
       "    <tr>\n",
       "      <th>(2009.929, 2020.0]</th>\n",
       "      <td>301714.752317</td>\n",
       "    </tr>\n",
       "  </tbody>\n",
       "</table>\n",
       "</div>"
      ],
      "text/plain": [
       "                         Sold Price\n",
       "bucket Year Built                  \n",
       "(1878.859, 1889.071]  228566.666667\n",
       "(1889.071, 1899.143]  231356.666667\n",
       "(1899.143, 1909.214]  224704.320000\n",
       "(1909.214, 1919.286]  219615.964789\n",
       "(1919.286, 1929.357]  211430.653465\n",
       "(1929.357, 1939.429]  223391.128571\n",
       "(1939.429, 1949.5]    219768.913978\n",
       "(1949.5, 1959.571]    249723.663934\n",
       "(1959.571, 1969.643]  275596.612121\n",
       "(1969.643, 1979.714]  250454.265027\n",
       "(1979.714, 1989.786]  260649.729358\n",
       "(1989.786, 1999.857]  280358.006791\n",
       "(1999.857, 2009.929]  315626.252128\n",
       "(2009.929, 2020.0]    301714.752317"
      ]
     },
     "execution_count": 20,
     "metadata": {},
     "output_type": "execute_result"
    }
   ],
   "source": [
    "mean=pd.pivot_table(df2,\n",
    "                    index=\"bucket Year Built\",\n",
    "                    values=\"Sold Price\",\n",
    "                    aggfunc='mean',)\n",
    "mean"
   ]
  },
  {
   "cell_type": "markdown",
   "metadata": {},
   "source": [
    "The barplot shows the same data in a more appealing way. We cannot observc clear pattern for price and age of the house. The only oberservation we saw is that the highest housing prices ona verage where observed during the Financial/Housing Crisis."
   ]
  },
  {
   "cell_type": "code",
   "execution_count": 21,
   "metadata": {},
   "outputs": [
    {
     "data": {
      "image/png": "[encoded data removed]",
      "text/plain": [
       "<Figure size 864x432 with 1 Axes>"
      ]
     },
     "metadata": {},
     "output_type": "display_data"
    }
   ],
   "source": [
    "plt.figure(figsize=(12,6))\n",
    "sns.boxplot(y = 'Quadrant', x = 'DOM', data = df )\n",
    "plt.title('Number of days on Market based on Quadrant')\n",
    "plt.show()"
   ]
  },
  {
   "cell_type": "markdown",
   "metadata": {},
   "source": [
    "###### Houses have relatively the same turnover (buy/sell activity) regarding of the lcoation."
   ]
  },
  {
   "cell_type": "code",
   "execution_count": 22,
   "metadata": {},
   "outputs": [
    {
     "data": {
      "image/png": "[encoded data removed]",
      "text/plain": [
       "<Figure size 864x432 with 1 Axes>"
      ]
     },
     "metadata": {},
     "output_type": "display_data"
    }
   ],
   "source": [
    "plt.figure(figsize=(12,6))\n",
    "sns.scatterplot(y = 'Sold Price', x = 'DOM', data = df )\n",
    "plt.title('Number of days on Market based on Quadrant')\n",
    "plt.show()"
   ]
  },
  {
   "cell_type": "markdown",
   "metadata": {},
   "source": [
    "##### We do not see any correlation between DOM and Sold Price. I would expect that it would affect price negatively assuming all other variables held constant."
   ]
  },
  {
   "cell_type": "code",
   "execution_count": 23,
   "metadata": {},
   "outputs": [
    {
     "data": {
      "image/png": "[encoded data removed]",
      "text/plain": [
       "<Figure size 864x432 with 1 Axes>"
      ]
     },
     "metadata": {},
     "output_type": "display_data"
    }
   ],
   "source": [
    "plt.figure(figsize=(12,6))\n",
    "sns.barplot(y = 'DOM', x = 'built_after_2000', data = df)\n",
    "plt.title('Average sell price for houses built before/after 2000')\n",
    "plt.show()"
   ]
  },
  {
   "cell_type": "markdown",
   "metadata": {},
   "source": [
    "# Question 2: SVM Regression (60 points)"
   ]
  },
  {
   "cell_type": "code",
   "execution_count": 24,
   "metadata": {},
   "outputs": [],
   "source": [
    "categorical = ['HOA Fee', 'Irregular Shape', 'Quadrant', 'School District', 'Sold Terms', 'Year Built', 'Zip', 'year_sold', 'month_sold', 'built_after_2000']\n",
    "\n",
    "for col in categorical: \n",
    "    df[col] = df[col].astype(\"category\")"
   ]
  },
  {
   "cell_type": "code",
   "execution_count": 25,
   "metadata": {},
   "outputs": [
    {
     "data": {
      "text/plain": [
       "Index(['Sold Price', 'DOM', 'Garage Capacity', 'Total Bedrooms',\n",
       "       'Total Bathrooms', 'Total Square Feet', 'HOA Fee_1', 'HOA Fee_10',\n",
       "       'HOA Fee_12', 'HOA Fee_13',\n",
       "       ...\n",
       "       'month_sold_4', 'month_sold_5', 'month_sold_6', 'month_sold_7',\n",
       "       'month_sold_8', 'month_sold_9', 'month_sold_10', 'month_sold_11',\n",
       "       'month_sold_12', 'built_after_2000_1'],\n",
       "      dtype='object', length=275)"
      ]
     },
     "execution_count": 25,
     "metadata": {},
     "output_type": "execute_result"
    }
   ],
   "source": [
    "df = pd.get_dummies(df, drop_first=True)\n",
    "df.columns"
   ]
  },
  {
   "cell_type": "markdown",
   "metadata": {},
   "source": [
    "### Part 2"
   ]
  },
  {
   "cell_type": "code",
   "execution_count": 26,
   "metadata": {},
   "outputs": [],
   "source": [
    "import sklearn"
   ]
  },
  {
   "cell_type": "code",
   "execution_count": 27,
   "metadata": {},
   "outputs": [],
   "source": [
    "from sklearn.preprocessing import StandardScaler"
   ]
  },
  {
   "cell_type": "code",
   "execution_count": 28,
   "metadata": {},
   "outputs": [
    {
     "data": {
      "text/html": [
       "<div>\n",
       "<style scoped>\n",
       "    .dataframe tbody tr th:only-of-type {\n",
       "        vertical-align: middle;\n",
       "    }\n",
       "\n",
       "    .dataframe tbody tr th {\n",
       "        vertical-align: top;\n",
       "    }\n",
       "\n",
       "    .dataframe thead th {\n",
       "        text-align: right;\n",
       "    }\n",
       "</style>\n",
       "<table border=\"1\" class=\"dataframe\">\n",
       "  <thead>\n",
       "    <tr style=\"text-align: right;\">\n",
       "      <th></th>\n",
       "      <th>Sold Price</th>\n",
       "      <th>DOM</th>\n",
       "      <th>Garage Capacity</th>\n",
       "      <th>Total Bedrooms</th>\n",
       "      <th>Total Bathrooms</th>\n",
       "      <th>Total Square Feet</th>\n",
       "      <th>HOA Fee_1</th>\n",
       "      <th>HOA Fee_10</th>\n",
       "      <th>HOA Fee_12</th>\n",
       "      <th>HOA Fee_13</th>\n",
       "      <th>...</th>\n",
       "      <th>month_sold_4</th>\n",
       "      <th>month_sold_5</th>\n",
       "      <th>month_sold_6</th>\n",
       "      <th>month_sold_7</th>\n",
       "      <th>month_sold_8</th>\n",
       "      <th>month_sold_9</th>\n",
       "      <th>month_sold_10</th>\n",
       "      <th>month_sold_11</th>\n",
       "      <th>month_sold_12</th>\n",
       "      <th>built_after_2000_1</th>\n",
       "    </tr>\n",
       "  </thead>\n",
       "  <tbody>\n",
       "    <tr>\n",
       "      <th>0</th>\n",
       "      <td>-0.900508</td>\n",
       "      <td>-0.689423</td>\n",
       "      <td>0.159024</td>\n",
       "      <td>-0.694402</td>\n",
       "      <td>-1.853418</td>\n",
       "      <td>-1.276179</td>\n",
       "      <td>-0.041305</td>\n",
       "      <td>-0.07823</td>\n",
       "      <td>-0.031212</td>\n",
       "      <td>-0.0156</td>\n",
       "      <td>...</td>\n",
       "      <td>-0.283622</td>\n",
       "      <td>-0.334234</td>\n",
       "      <td>-0.358470</td>\n",
       "      <td>-0.359765</td>\n",
       "      <td>-0.361489</td>\n",
       "      <td>3.217700</td>\n",
       "      <td>-0.318255</td>\n",
       "      <td>-0.264112</td>\n",
       "      <td>-0.239522</td>\n",
       "      <td>-1.035672</td>\n",
       "    </tr>\n",
       "    <tr>\n",
       "      <th>1</th>\n",
       "      <td>-0.484727</td>\n",
       "      <td>-0.670031</td>\n",
       "      <td>0.159024</td>\n",
       "      <td>0.151225</td>\n",
       "      <td>-0.678414</td>\n",
       "      <td>-0.266234</td>\n",
       "      <td>-0.041305</td>\n",
       "      <td>-0.07823</td>\n",
       "      <td>-0.031212</td>\n",
       "      <td>-0.0156</td>\n",
       "      <td>...</td>\n",
       "      <td>-0.283622</td>\n",
       "      <td>-0.334234</td>\n",
       "      <td>-0.358470</td>\n",
       "      <td>2.779589</td>\n",
       "      <td>-0.361489</td>\n",
       "      <td>-0.310781</td>\n",
       "      <td>-0.318255</td>\n",
       "      <td>-0.264112</td>\n",
       "      <td>-0.239522</td>\n",
       "      <td>-1.035672</td>\n",
       "    </tr>\n",
       "    <tr>\n",
       "      <th>2</th>\n",
       "      <td>-0.061309</td>\n",
       "      <td>-0.514889</td>\n",
       "      <td>0.159024</td>\n",
       "      <td>-0.694402</td>\n",
       "      <td>-1.853418</td>\n",
       "      <td>-0.337693</td>\n",
       "      <td>-0.041305</td>\n",
       "      <td>-0.07823</td>\n",
       "      <td>-0.031212</td>\n",
       "      <td>-0.0156</td>\n",
       "      <td>...</td>\n",
       "      <td>-0.283622</td>\n",
       "      <td>-0.334234</td>\n",
       "      <td>-0.358470</td>\n",
       "      <td>-0.359765</td>\n",
       "      <td>-0.361489</td>\n",
       "      <td>-0.310781</td>\n",
       "      <td>-0.318255</td>\n",
       "      <td>3.786267</td>\n",
       "      <td>-0.239522</td>\n",
       "      <td>-1.035672</td>\n",
       "    </tr>\n",
       "    <tr>\n",
       "      <th>3</th>\n",
       "      <td>-0.908994</td>\n",
       "      <td>-0.476103</td>\n",
       "      <td>-0.755088</td>\n",
       "      <td>0.151225</td>\n",
       "      <td>-1.853418</td>\n",
       "      <td>-0.429159</td>\n",
       "      <td>-0.041305</td>\n",
       "      <td>-0.07823</td>\n",
       "      <td>-0.031212</td>\n",
       "      <td>-0.0156</td>\n",
       "      <td>...</td>\n",
       "      <td>-0.283622</td>\n",
       "      <td>-0.334234</td>\n",
       "      <td>2.789633</td>\n",
       "      <td>-0.359765</td>\n",
       "      <td>-0.361489</td>\n",
       "      <td>-0.310781</td>\n",
       "      <td>-0.318255</td>\n",
       "      <td>-0.264112</td>\n",
       "      <td>-0.239522</td>\n",
       "      <td>-1.035672</td>\n",
       "    </tr>\n",
       "    <tr>\n",
       "      <th>4</th>\n",
       "      <td>-0.875052</td>\n",
       "      <td>-0.223998</td>\n",
       "      <td>-1.669200</td>\n",
       "      <td>0.151225</td>\n",
       "      <td>-0.678414</td>\n",
       "      <td>-0.992251</td>\n",
       "      <td>-0.041305</td>\n",
       "      <td>-0.07823</td>\n",
       "      <td>-0.031212</td>\n",
       "      <td>-0.0156</td>\n",
       "      <td>...</td>\n",
       "      <td>-0.283622</td>\n",
       "      <td>-0.334234</td>\n",
       "      <td>-0.358470</td>\n",
       "      <td>-0.359765</td>\n",
       "      <td>-0.361489</td>\n",
       "      <td>3.217700</td>\n",
       "      <td>-0.318255</td>\n",
       "      <td>-0.264112</td>\n",
       "      <td>-0.239522</td>\n",
       "      <td>-1.035672</td>\n",
       "    </tr>\n",
       "  </tbody>\n",
       "</table>\n",
       "<p>5 rows × 275 columns</p>\n",
       "</div>"
      ],
      "text/plain": [
       "   Sold Price       DOM  Garage Capacity  Total Bedrooms  Total Bathrooms  \\\n",
       "0   -0.900508 -0.689423         0.159024       -0.694402        -1.853418   \n",
       "1   -0.484727 -0.670031         0.159024        0.151225        -0.678414   \n",
       "2   -0.061309 -0.514889         0.159024       -0.694402        -1.853418   \n",
       "3   -0.908994 -0.476103        -0.755088        0.151225        -1.853418   \n",
       "4   -0.875052 -0.223998        -1.669200        0.151225        -0.678414   \n",
       "\n",
       "   Total Square Feet  HOA Fee_1  HOA Fee_10  HOA Fee_12  HOA Fee_13  ...  \\\n",
       "0          -1.276179  -0.041305    -0.07823   -0.031212     -0.0156  ...   \n",
       "1          -0.266234  -0.041305    -0.07823   -0.031212     -0.0156  ...   \n",
       "2          -0.337693  -0.041305    -0.07823   -0.031212     -0.0156  ...   \n",
       "3          -0.429159  -0.041305    -0.07823   -0.031212     -0.0156  ...   \n",
       "4          -0.992251  -0.041305    -0.07823   -0.031212     -0.0156  ...   \n",
       "\n",
       "   month_sold_4  month_sold_5  month_sold_6  month_sold_7  month_sold_8  \\\n",
       "0     -0.283622     -0.334234     -0.358470     -0.359765     -0.361489   \n",
       "1     -0.283622     -0.334234     -0.358470      2.779589     -0.361489   \n",
       "2     -0.283622     -0.334234     -0.358470     -0.359765     -0.361489   \n",
       "3     -0.283622     -0.334234      2.789633     -0.359765     -0.361489   \n",
       "4     -0.283622     -0.334234     -0.358470     -0.359765     -0.361489   \n",
       "\n",
       "   month_sold_9  month_sold_10  month_sold_11  month_sold_12  \\\n",
       "0      3.217700      -0.318255      -0.264112      -0.239522   \n",
       "1     -0.310781      -0.318255      -0.264112      -0.239522   \n",
       "2     -0.310781      -0.318255       3.786267      -0.239522   \n",
       "3     -0.310781      -0.318255      -0.264112      -0.239522   \n",
       "4      3.217700      -0.318255      -0.264112      -0.239522   \n",
       "\n",
       "   built_after_2000_1  \n",
       "0           -1.035672  \n",
       "1           -1.035672  \n",
       "2           -1.035672  \n",
       "3           -1.035672  \n",
       "4           -1.035672  \n",
       "\n",
       "[5 rows x 275 columns]"
      ]
     },
     "execution_count": 28,
     "metadata": {},
     "output_type": "execute_result"
    }
   ],
   "source": [
    "scale = StandardScaler()\n",
    "df_sc = scale.fit_transform(df)\n",
    "df_sc = pd.DataFrame(df_sc, columns=df.columns)\n",
    "df_sc.head()"
   ]
  },
  {
   "cell_type": "markdown",
   "metadata": {},
   "source": [
    "### Part 3"
   ]
  },
  {
   "cell_type": "code",
   "execution_count": 29,
   "metadata": {},
   "outputs": [],
   "source": [
    "y = df_sc['Sold Price']\n",
    "X = df_sc.drop('Sold Price', axis=1) # becareful inplace= False\n",
    "\n",
    "from sklearn.model_selection import train_test_split\n",
    "X_train, X_test, y_train, y_test = train_test_split(X, y, test_size=0.2, random_state=rand_state)"
   ]
  },
  {
   "cell_type": "markdown",
   "metadata": {},
   "source": [
    "### Part 4"
   ]
  },
  {
   "cell_type": "code",
   "execution_count": 30,
   "metadata": {},
   "outputs": [
    {
     "data": {
      "text/html": [
       "<div>\n",
       "<style scoped>\n",
       "    .dataframe tbody tr th:only-of-type {\n",
       "        vertical-align: middle;\n",
       "    }\n",
       "\n",
       "    .dataframe tbody tr th {\n",
       "        vertical-align: top;\n",
       "    }\n",
       "\n",
       "    .dataframe thead th {\n",
       "        text-align: right;\n",
       "    }\n",
       "</style>\n",
       "<table border=\"1\" class=\"dataframe\">\n",
       "  <thead>\n",
       "    <tr style=\"text-align: right;\">\n",
       "      <th></th>\n",
       "      <th>y_test</th>\n",
       "      <th>y_hat</th>\n",
       "    </tr>\n",
       "  </thead>\n",
       "  <tbody>\n",
       "    <tr>\n",
       "      <th>3940</th>\n",
       "      <td>0.830500</td>\n",
       "      <td>0.768114</td>\n",
       "    </tr>\n",
       "    <tr>\n",
       "      <th>2470</th>\n",
       "      <td>0.312895</td>\n",
       "      <td>0.350005</td>\n",
       "    </tr>\n",
       "    <tr>\n",
       "      <th>351</th>\n",
       "      <td>-0.620492</td>\n",
       "      <td>-0.541199</td>\n",
       "    </tr>\n",
       "    <tr>\n",
       "      <th>3137</th>\n",
       "      <td>-0.485575</td>\n",
       "      <td>-0.416473</td>\n",
       "    </tr>\n",
       "    <tr>\n",
       "      <th>2605</th>\n",
       "      <td>0.211071</td>\n",
       "      <td>0.398513</td>\n",
       "    </tr>\n",
       "  </tbody>\n",
       "</table>\n",
       "</div>"
      ],
      "text/plain": [
       "        y_test     y_hat\n",
       "3940  0.830500  0.768114\n",
       "2470  0.312895  0.350005\n",
       "351  -0.620492 -0.541199\n",
       "3137 -0.485575 -0.416473\n",
       "2605  0.211071  0.398513"
      ]
     },
     "execution_count": 30,
     "metadata": {},
     "output_type": "execute_result"
    }
   ],
   "source": [
    "from sklearn.svm import SVR\n",
    "# Fitting SVM regression to the Training set\n",
    "SVM_regression = SVR()\n",
    "SVM_regression.fit(X_train, y_train)\n",
    "SVR()\n",
    "# Predicting the Test set results\n",
    "y_hat = SVM_regression.predict(X_test)\n",
    "predictions = pd.DataFrame({ 'y_test':y_test,'y_hat':y_hat})\n",
    "predictions.head()"
   ]
  },
  {
   "cell_type": "code",
   "execution_count": 31,
   "metadata": {},
   "outputs": [
    {
     "data": {
      "image/png": "[encoded data removed]",
      "text/plain": [
       "<Figure size 432x288 with 1 Axes>"
      ]
     },
     "metadata": {},
     "output_type": "display_data"
    }
   ],
   "source": [
    "sns.scatterplot(x=y_test, y=y_hat, alpha=0.6)\n",
    "sns.lineplot(y_test, y_test)\n",
    "\n",
    "plt.xlabel('Actual count', fontsize=14)\n",
    "plt.ylabel('Prediced  count', fontsize=14)\n",
    "plt.title('Actual vs Predicted  count (test set)', fontsize=17)\n",
    "plt.show()"
   ]
  },
  {
   "cell_type": "markdown",
   "metadata": {},
   "source": [
    "Answer part 4, part 4"
   ]
  },
  {
   "cell_type": "code",
   "execution_count": 32,
   "metadata": {},
   "outputs": [
    {
     "data": {
      "text/plain": [
       "0.6533637379975381"
      ]
     },
     "execution_count": 32,
     "metadata": {},
     "output_type": "execute_result"
    }
   ],
   "source": [
    "SVM_regression.score(X_test, y_test)"
   ]
  },
  {
   "cell_type": "code",
   "execution_count": 33,
   "metadata": {},
   "outputs": [
    {
     "data": {
      "text/plain": [
       "0.65"
      ]
     },
     "execution_count": 33,
     "metadata": {},
     "output_type": "execute_result"
    }
   ],
   "source": [
    "MSE_test = round(np.mean(np.square(y_test - y_hat)),2)\n",
    "RMSE_test = round(np.sqrt(MSE_test),2)\n",
    "RMSE_test"
   ]
  },
  {
   "cell_type": "markdown",
   "metadata": {},
   "source": [
    "### Part 5"
   ]
  },
  {
   "cell_type": "code",
   "execution_count": 34,
   "metadata": {},
   "outputs": [
    {
     "data": {
      "text/plain": [
       "GridSearchCV(cv=5, estimator=SVR(),\n",
       "             param_grid={'C': [1, 10, 100], 'gamma': ['scaled', 0.1, 0.01],\n",
       "                         'kernel': ['rbf']},\n",
       "             verbose=3)"
      ]
     },
     "execution_count": 34,
     "metadata": {},
     "output_type": "execute_result"
    }
   ],
   "source": [
    "my_param_grid = {'C': [1,10,100], 'gamma': ['scaled',0.1,0.01], 'kernel': ['rbf']} \n",
    "from sklearn.model_selection import GridSearchCV\n",
    "GridSearchCV(estimator=SVR(),param_grid= my_param_grid, refit = True, verbose=3, cv=5 )"
   ]
  },
  {
   "cell_type": "markdown",
   "metadata": {},
   "source": [
    "### Part 6"
   ]
  },
  {
   "cell_type": "code",
   "execution_count": 35,
   "metadata": {},
   "outputs": [
    {
     "name": "stdout",
     "output_type": "stream",
     "text": [
      "Fitting 5 folds for each of 9 candidates, totalling 45 fits\n",
      "[CV] C=1, gamma=scaled, kernel=rbf ...................................\n",
      "[CV] .................... C=1, gamma=scaled, kernel=rbf, total=   0.0s\n",
      "[CV] C=1, gamma=scaled, kernel=rbf ...................................\n",
      "[CV] .................... C=1, gamma=scaled, kernel=rbf, total=   0.0s\n",
      "[CV] C=1, gamma=scaled, kernel=rbf ...................................\n",
      "[CV] .................... C=1, gamma=scaled, kernel=rbf, total=   0.0s\n",
      "[CV] C=1, gamma=scaled, kernel=rbf ...................................\n",
      "[CV] .................... C=1, gamma=scaled, kernel=rbf, total=   0.0s\n",
      "[CV] C=1, gamma=scaled, kernel=rbf ...................................\n"
     ]
    },
    {
     "name": "stderr",
     "output_type": "stream",
     "text": [
      "[Parallel(n_jobs=1)]: Using backend SequentialBackend with 1 concurrent workers.\n",
      "[Parallel(n_jobs=1)]: Done   1 out of   1 | elapsed:    0.1s remaining:    0.0s\n"
     ]
    },
    {
     "name": "stdout",
     "output_type": "stream",
     "text": [
      "[CV] .................... C=1, gamma=scaled, kernel=rbf, total=   0.0s\n",
      "[CV] C=1, gamma=0.1, kernel=rbf ......................................\n",
      "[CV] ....................... C=1, gamma=0.1, kernel=rbf, total=   6.8s\n",
      "[CV] C=1, gamma=0.1, kernel=rbf ......................................\n",
      "[CV] ....................... C=1, gamma=0.1, kernel=rbf, total=   6.1s\n",
      "[CV] C=1, gamma=0.1, kernel=rbf ......................................\n",
      "[CV] ....................... C=1, gamma=0.1, kernel=rbf, total=   5.6s\n",
      "[CV] C=1, gamma=0.1, kernel=rbf ......................................\n",
      "[CV] ....................... C=1, gamma=0.1, kernel=rbf, total=   5.5s\n",
      "[CV] C=1, gamma=0.1, kernel=rbf ......................................\n",
      "[CV] ....................... C=1, gamma=0.1, kernel=rbf, total=   5.4s\n",
      "[CV] C=1, gamma=0.01, kernel=rbf .....................................\n",
      "[CV] ...................... C=1, gamma=0.01, kernel=rbf, total=   4.1s\n",
      "[CV] C=1, gamma=0.01, kernel=rbf .....................................\n",
      "[CV] ...................... C=1, gamma=0.01, kernel=rbf, total=   4.1s\n",
      "[CV] C=1, gamma=0.01, kernel=rbf .....................................\n",
      "[CV] ...................... C=1, gamma=0.01, kernel=rbf, total=   4.5s\n",
      "[CV] C=1, gamma=0.01, kernel=rbf .....................................\n",
      "[CV] ...................... C=1, gamma=0.01, kernel=rbf, total=   4.4s\n",
      "[CV] C=1, gamma=0.01, kernel=rbf .....................................\n",
      "[CV] ...................... C=1, gamma=0.01, kernel=rbf, total=   5.6s\n",
      "[CV] C=10, gamma=scaled, kernel=rbf ..................................\n",
      "[CV] ................... C=10, gamma=scaled, kernel=rbf, total=   0.0s\n",
      "[CV] C=10, gamma=scaled, kernel=rbf ..................................\n",
      "[CV] ................... C=10, gamma=scaled, kernel=rbf, total=   0.0s\n",
      "[CV] C=10, gamma=scaled, kernel=rbf ..................................\n",
      "[CV] ................... C=10, gamma=scaled, kernel=rbf, total=   0.0s\n",
      "[CV] C=10, gamma=scaled, kernel=rbf ..................................\n",
      "[CV] ................... C=10, gamma=scaled, kernel=rbf, total=   0.0s\n",
      "[CV] C=10, gamma=scaled, kernel=rbf ..................................\n",
      "[CV] ................... C=10, gamma=scaled, kernel=rbf, total=   0.0s\n",
      "[CV] C=10, gamma=0.1, kernel=rbf .....................................\n",
      "[CV] ...................... C=10, gamma=0.1, kernel=rbf, total=   7.0s\n",
      "[CV] C=10, gamma=0.1, kernel=rbf .....................................\n",
      "[CV] ...................... C=10, gamma=0.1, kernel=rbf, total=  10.5s\n",
      "[CV] C=10, gamma=0.1, kernel=rbf .....................................\n",
      "[CV] ...................... C=10, gamma=0.1, kernel=rbf, total=   9.2s\n",
      "[CV] C=10, gamma=0.1, kernel=rbf .....................................\n",
      "[CV] ...................... C=10, gamma=0.1, kernel=rbf, total=   5.8s\n",
      "[CV] C=10, gamma=0.1, kernel=rbf .....................................\n",
      "[CV] ...................... C=10, gamma=0.1, kernel=rbf, total=   6.5s\n",
      "[CV] C=10, gamma=0.01, kernel=rbf ....................................\n",
      "[CV] ..................... C=10, gamma=0.01, kernel=rbf, total=   5.7s\n",
      "[CV] C=10, gamma=0.01, kernel=rbf ....................................\n",
      "[CV] ..................... C=10, gamma=0.01, kernel=rbf, total=   7.5s\n",
      "[CV] C=10, gamma=0.01, kernel=rbf ....................................\n",
      "[CV] ..................... C=10, gamma=0.01, kernel=rbf, total=   5.5s\n",
      "[CV] C=10, gamma=0.01, kernel=rbf ....................................\n",
      "[CV] ..................... C=10, gamma=0.01, kernel=rbf, total=   5.2s\n",
      "[CV] C=10, gamma=0.01, kernel=rbf ....................................\n",
      "[CV] ..................... C=10, gamma=0.01, kernel=rbf, total=   4.8s\n",
      "[CV] C=100, gamma=scaled, kernel=rbf .................................\n",
      "[CV] .................. C=100, gamma=scaled, kernel=rbf, total=   0.0s\n",
      "[CV] C=100, gamma=scaled, kernel=rbf .................................\n",
      "[CV] .................. C=100, gamma=scaled, kernel=rbf, total=   0.0s\n",
      "[CV] C=100, gamma=scaled, kernel=rbf .................................\n",
      "[CV] .................. C=100, gamma=scaled, kernel=rbf, total=   0.0s\n",
      "[CV] C=100, gamma=scaled, kernel=rbf .................................\n",
      "[CV] .................. C=100, gamma=scaled, kernel=rbf, total=   0.0s\n",
      "[CV] C=100, gamma=scaled, kernel=rbf .................................\n",
      "[CV] .................. C=100, gamma=scaled, kernel=rbf, total=   0.0s\n",
      "[CV] C=100, gamma=0.1, kernel=rbf ....................................\n",
      "[CV] ..................... C=100, gamma=0.1, kernel=rbf, total=   5.7s\n",
      "[CV] C=100, gamma=0.1, kernel=rbf ....................................\n",
      "[CV] ..................... C=100, gamma=0.1, kernel=rbf, total=   6.2s\n",
      "[CV] C=100, gamma=0.1, kernel=rbf ....................................\n",
      "[CV] ..................... C=100, gamma=0.1, kernel=rbf, total=   6.1s\n",
      "[CV] C=100, gamma=0.1, kernel=rbf ....................................\n",
      "[CV] ..................... C=100, gamma=0.1, kernel=rbf, total=   6.6s\n",
      "[CV] C=100, gamma=0.1, kernel=rbf ....................................\n",
      "[CV] ..................... C=100, gamma=0.1, kernel=rbf, total=   6.9s\n",
      "[CV] C=100, gamma=0.01, kernel=rbf ...................................\n",
      "[CV] .................... C=100, gamma=0.01, kernel=rbf, total=   5.0s\n",
      "[CV] C=100, gamma=0.01, kernel=rbf ...................................\n",
      "[CV] .................... C=100, gamma=0.01, kernel=rbf, total=   5.0s\n",
      "[CV] C=100, gamma=0.01, kernel=rbf ...................................\n",
      "[CV] .................... C=100, gamma=0.01, kernel=rbf, total=   4.9s\n",
      "[CV] C=100, gamma=0.01, kernel=rbf ...................................\n",
      "[CV] .................... C=100, gamma=0.01, kernel=rbf, total=   4.9s\n",
      "[CV] C=100, gamma=0.01, kernel=rbf ...................................\n",
      "[CV] .................... C=100, gamma=0.01, kernel=rbf, total=   4.4s\n"
     ]
    },
    {
     "name": "stderr",
     "output_type": "stream",
     "text": [
      "[Parallel(n_jobs=1)]: Done  45 out of  45 | elapsed:  2.9min finished\n"
     ]
    },
    {
     "data": {
      "text/plain": [
       "GridSearchCV(cv=5, estimator=SVR(),\n",
       "             param_grid={'C': [1, 10, 100], 'gamma': ['scaled', 0.1, 0.01],\n",
       "                         'kernel': ['rbf']},\n",
       "             verbose=2)"
      ]
     },
     "execution_count": 35,
     "metadata": {},
     "output_type": "execute_result"
    }
   ],
   "source": [
    "grid = GridSearchCV(estimator=SVR(),param_grid= my_param_grid, refit = True, verbose=2, cv=5 , scoring=None)\n",
    "# verbose just means the text output describing the process. (the greater the number the more detail you will get).\n",
    "# May take a while!\n",
    "grid.fit(X_train,y_train)"
   ]
  },
  {
   "cell_type": "code",
   "execution_count": 36,
   "metadata": {},
   "outputs": [
    {
     "data": {
      "text/html": [
       "<div>\n",
       "<style scoped>\n",
       "    .dataframe tbody tr th:only-of-type {\n",
       "        vertical-align: middle;\n",
       "    }\n",
       "\n",
       "    .dataframe tbody tr th {\n",
       "        vertical-align: top;\n",
       "    }\n",
       "\n",
       "    .dataframe thead th {\n",
       "        text-align: right;\n",
       "    }\n",
       "</style>\n",
       "<table border=\"1\" class=\"dataframe\">\n",
       "  <thead>\n",
       "    <tr style=\"text-align: right;\">\n",
       "      <th></th>\n",
       "      <th>y_test</th>\n",
       "      <th>y_hat</th>\n",
       "      <th>y_hat_optimized</th>\n",
       "    </tr>\n",
       "  </thead>\n",
       "  <tbody>\n",
       "    <tr>\n",
       "      <th>3940</th>\n",
       "      <td>0.830500</td>\n",
       "      <td>0.768114</td>\n",
       "      <td>0.707433</td>\n",
       "    </tr>\n",
       "    <tr>\n",
       "      <th>2470</th>\n",
       "      <td>0.312895</td>\n",
       "      <td>0.350005</td>\n",
       "      <td>0.269161</td>\n",
       "    </tr>\n",
       "    <tr>\n",
       "      <th>351</th>\n",
       "      <td>-0.620492</td>\n",
       "      <td>-0.541199</td>\n",
       "      <td>-0.379154</td>\n",
       "    </tr>\n",
       "    <tr>\n",
       "      <th>3137</th>\n",
       "      <td>-0.485575</td>\n",
       "      <td>-0.416473</td>\n",
       "      <td>-0.410560</td>\n",
       "    </tr>\n",
       "    <tr>\n",
       "      <th>2605</th>\n",
       "      <td>0.211071</td>\n",
       "      <td>0.398513</td>\n",
       "      <td>0.444490</td>\n",
       "    </tr>\n",
       "  </tbody>\n",
       "</table>\n",
       "</div>"
      ],
      "text/plain": [
       "        y_test     y_hat  y_hat_optimized\n",
       "3940  0.830500  0.768114         0.707433\n",
       "2470  0.312895  0.350005         0.269161\n",
       "351  -0.620492 -0.541199        -0.379154\n",
       "3137 -0.485575 -0.416473        -0.410560\n",
       "2605  0.211071  0.398513         0.444490"
      ]
     },
     "execution_count": 36,
     "metadata": {},
     "output_type": "execute_result"
    }
   ],
   "source": [
    "grid.best_params_\n",
    "grid.best_estimator_\n",
    "y_hat_optimized = grid.predict(X_test)\n",
    "predictions['y_hat_optimized'] = y_hat_optimized\n",
    "predictions.head()"
   ]
  },
  {
   "cell_type": "markdown",
   "metadata": {},
   "source": [
    "### Part 7"
   ]
  },
  {
   "cell_type": "code",
   "execution_count": 37,
   "metadata": {},
   "outputs": [
    {
     "data": {
      "text/plain": [
       "0.69"
      ]
     },
     "execution_count": 37,
     "metadata": {},
     "output_type": "execute_result"
    }
   ],
   "source": [
    "MSE_test_opt = round(np.mean(np.square(y_test - y_hat_optimized)),2)\n",
    "RMSE_test_opt = round(np.sqrt(MSE_test_opt),2)\n",
    "RMSE_test_opt"
   ]
  },
  {
   "cell_type": "markdown",
   "metadata": {},
   "source": [
    "### Part 8"
   ]
  },
  {
   "cell_type": "code",
   "execution_count": 38,
   "metadata": {},
   "outputs": [
    {
     "data": {
      "text/plain": [
       "0.5807"
      ]
     },
     "execution_count": 38,
     "metadata": {},
     "output_type": "execute_result"
    }
   ],
   "source": [
    "from sklearn.model_selection import cross_val_score\n",
    "NMSE = cross_val_score(estimator = SVR(C=10, gamma=0.01), X = X_train, y = y_train, cv = 5 , scoring=\"neg_mean_squared_error\" )\n",
    "MSE_CV = round(np.mean(-NMSE),4)\n",
    "RMSE_CV = round(np.sqrt(MSE_CV),4)\n",
    "RMSE_CV"
   ]
  },
  {
   "cell_type": "markdown",
   "metadata": {},
   "source": [
    "# Question 3"
   ]
  },
  {
   "cell_type": "markdown",
   "metadata": {},
   "source": [
    "### Part 1"
   ]
  },
  {
   "cell_type": "code",
   "execution_count": 39,
   "metadata": {},
   "outputs": [],
   "source": [
    "import numpy as np\n",
    "import pandas as pd\n",
    "import matplotlib.pyplot as plt\n",
    "import seaborn as sns\n",
    "sns.set()  #if you want to use seaborn themes with matplotlib functions\n",
    "import warnings\n",
    "warnings.filterwarnings('ignore')"
   ]
  },
  {
   "cell_type": "code",
   "execution_count": 40,
   "metadata": {},
   "outputs": [
    {
     "data": {
      "text/html": [
       "<div>\n",
       "<style scoped>\n",
       "    .dataframe tbody tr th:only-of-type {\n",
       "        vertical-align: middle;\n",
       "    }\n",
       "\n",
       "    .dataframe tbody tr th {\n",
       "        vertical-align: top;\n",
       "    }\n",
       "\n",
       "    .dataframe thead th {\n",
       "        text-align: right;\n",
       "    }\n",
       "</style>\n",
       "<table border=\"1\" class=\"dataframe\">\n",
       "  <thead>\n",
       "    <tr style=\"text-align: right;\">\n",
       "      <th></th>\n",
       "      <th>Sold Price</th>\n",
       "      <th>DOM</th>\n",
       "      <th>Garage Capacity</th>\n",
       "      <th>HOA Fee</th>\n",
       "      <th>Irregular Shape</th>\n",
       "      <th>Quadrant</th>\n",
       "      <th>School District</th>\n",
       "      <th>Sold Terms</th>\n",
       "      <th>Total Bedrooms</th>\n",
       "      <th>Total Bathrooms</th>\n",
       "      <th>Total Square Feet</th>\n",
       "      <th>Year Built</th>\n",
       "      <th>Zip</th>\n",
       "      <th>year_sold</th>\n",
       "      <th>month_sold</th>\n",
       "      <th>built_after_2000</th>\n",
       "    </tr>\n",
       "  </thead>\n",
       "  <tbody>\n",
       "    <tr>\n",
       "      <th>0</th>\n",
       "      <td>176000</td>\n",
       "      <td>5</td>\n",
       "      <td>2</td>\n",
       "      <td>0</td>\n",
       "      <td>No</td>\n",
       "      <td>NW</td>\n",
       "      <td>Cache</td>\n",
       "      <td>FHA</td>\n",
       "      <td>3</td>\n",
       "      <td>1</td>\n",
       "      <td>1031</td>\n",
       "      <td>1974</td>\n",
       "      <td>84335</td>\n",
       "      <td>2018</td>\n",
       "      <td>9</td>\n",
       "      <td>0</td>\n",
       "    </tr>\n",
       "    <tr>\n",
       "      <th>1</th>\n",
       "      <td>225000</td>\n",
       "      <td>6</td>\n",
       "      <td>2</td>\n",
       "      <td>0</td>\n",
       "      <td>No</td>\n",
       "      <td>NW</td>\n",
       "      <td>Cache</td>\n",
       "      <td>Conventional</td>\n",
       "      <td>4</td>\n",
       "      <td>2</td>\n",
       "      <td>2091</td>\n",
       "      <td>1995</td>\n",
       "      <td>84335</td>\n",
       "      <td>2018</td>\n",
       "      <td>7</td>\n",
       "      <td>0</td>\n",
       "    </tr>\n",
       "    <tr>\n",
       "      <th>2</th>\n",
       "      <td>274900</td>\n",
       "      <td>14</td>\n",
       "      <td>2</td>\n",
       "      <td>0</td>\n",
       "      <td>No</td>\n",
       "      <td>NW</td>\n",
       "      <td>Cache</td>\n",
       "      <td>Conventional</td>\n",
       "      <td>3</td>\n",
       "      <td>1</td>\n",
       "      <td>2016</td>\n",
       "      <td>1980</td>\n",
       "      <td>84335</td>\n",
       "      <td>2018</td>\n",
       "      <td>11</td>\n",
       "      <td>0</td>\n",
       "    </tr>\n",
       "    <tr>\n",
       "      <th>3</th>\n",
       "      <td>175000</td>\n",
       "      <td>16</td>\n",
       "      <td>1</td>\n",
       "      <td>0</td>\n",
       "      <td>No</td>\n",
       "      <td>NW</td>\n",
       "      <td>Cache</td>\n",
       "      <td>USDA Rural Development</td>\n",
       "      <td>4</td>\n",
       "      <td>1</td>\n",
       "      <td>1920</td>\n",
       "      <td>1978</td>\n",
       "      <td>84335</td>\n",
       "      <td>2018</td>\n",
       "      <td>6</td>\n",
       "      <td>0</td>\n",
       "    </tr>\n",
       "    <tr>\n",
       "      <th>4</th>\n",
       "      <td>179000</td>\n",
       "      <td>29</td>\n",
       "      <td>0</td>\n",
       "      <td>0</td>\n",
       "      <td>No</td>\n",
       "      <td>NW</td>\n",
       "      <td>Cache</td>\n",
       "      <td>Cash</td>\n",
       "      <td>4</td>\n",
       "      <td>2</td>\n",
       "      <td>1329</td>\n",
       "      <td>1976</td>\n",
       "      <td>84335</td>\n",
       "      <td>2018</td>\n",
       "      <td>9</td>\n",
       "      <td>0</td>\n",
       "    </tr>\n",
       "  </tbody>\n",
       "</table>\n",
       "</div>"
      ],
      "text/plain": [
       "   Sold Price  DOM  Garage Capacity  HOA Fee Irregular Shape Quadrant  \\\n",
       "0      176000    5                2        0              No       NW   \n",
       "1      225000    6                2        0              No       NW   \n",
       "2      274900   14                2        0              No       NW   \n",
       "3      175000   16                1        0              No       NW   \n",
       "4      179000   29                0        0              No       NW   \n",
       "\n",
       "  School District              Sold Terms  Total Bedrooms  Total Bathrooms  \\\n",
       "0           Cache                     FHA               3                1   \n",
       "1           Cache            Conventional               4                2   \n",
       "2           Cache            Conventional               3                1   \n",
       "3           Cache  USDA Rural Development               4                1   \n",
       "4           Cache                    Cash               4                2   \n",
       "\n",
       "   Total Square Feet  Year Built    Zip  year_sold  month_sold  \\\n",
       "0               1031        1974  84335       2018           9   \n",
       "1               2091        1995  84335       2018           7   \n",
       "2               2016        1980  84335       2018          11   \n",
       "3               1920        1978  84335       2018           6   \n",
       "4               1329        1976  84335       2018           9   \n",
       "\n",
       "   built_after_2000  \n",
       "0                 0  \n",
       "1                 0  \n",
       "2                 0  \n",
       "3                 0  \n",
       "4                 0  "
      ]
     },
     "execution_count": 40,
     "metadata": {},
     "output_type": "execute_result"
    }
   ],
   "source": [
    "rand_state = 1000\n",
    "df = pd.read_csv(\"https://raw.githubusercontent.com/PJalgotrader/Machine_Learning-USU/main/HW_data/HW8/Logan_housing.csv\")\n",
    "df.head()"
   ]
  },
  {
   "cell_type": "code",
   "execution_count": null,
   "metadata": {},
   "outputs": [],
   "source": []
  },
  {
   "cell_type": "code",
   "execution_count": 41,
   "metadata": {},
   "outputs": [
    {
     "data": {
      "text/html": [
       "<div>\n",
       "<style scoped>\n",
       "    .dataframe tbody tr th:only-of-type {\n",
       "        vertical-align: middle;\n",
       "    }\n",
       "\n",
       "    .dataframe tbody tr th {\n",
       "        vertical-align: top;\n",
       "    }\n",
       "\n",
       "    .dataframe thead th {\n",
       "        text-align: right;\n",
       "    }\n",
       "</style>\n",
       "<table border=\"1\" class=\"dataframe\">\n",
       "  <thead>\n",
       "    <tr style=\"text-align: right;\">\n",
       "      <th></th>\n",
       "      <th>Sold Price</th>\n",
       "      <th>DOM</th>\n",
       "      <th>Garage Capacity</th>\n",
       "      <th>HOA Fee</th>\n",
       "      <th>Irregular Shape</th>\n",
       "      <th>Quadrant</th>\n",
       "      <th>School District</th>\n",
       "      <th>Sold Terms</th>\n",
       "      <th>Total Bedrooms</th>\n",
       "      <th>Total Bathrooms</th>\n",
       "      <th>Total Square Feet</th>\n",
       "      <th>Year Built</th>\n",
       "      <th>Zip</th>\n",
       "      <th>year_sold</th>\n",
       "      <th>month_sold</th>\n",
       "      <th>built_after_2000</th>\n",
       "      <th>liquid</th>\n",
       "    </tr>\n",
       "  </thead>\n",
       "  <tbody>\n",
       "    <tr>\n",
       "      <th>0</th>\n",
       "      <td>176000</td>\n",
       "      <td>5</td>\n",
       "      <td>2</td>\n",
       "      <td>0</td>\n",
       "      <td>No</td>\n",
       "      <td>NW</td>\n",
       "      <td>Cache</td>\n",
       "      <td>FHA</td>\n",
       "      <td>3</td>\n",
       "      <td>1</td>\n",
       "      <td>1031</td>\n",
       "      <td>1974</td>\n",
       "      <td>84335</td>\n",
       "      <td>2018</td>\n",
       "      <td>9</td>\n",
       "      <td>0</td>\n",
       "      <td>1</td>\n",
       "    </tr>\n",
       "    <tr>\n",
       "      <th>1</th>\n",
       "      <td>225000</td>\n",
       "      <td>6</td>\n",
       "      <td>2</td>\n",
       "      <td>0</td>\n",
       "      <td>No</td>\n",
       "      <td>NW</td>\n",
       "      <td>Cache</td>\n",
       "      <td>Conventional</td>\n",
       "      <td>4</td>\n",
       "      <td>2</td>\n",
       "      <td>2091</td>\n",
       "      <td>1995</td>\n",
       "      <td>84335</td>\n",
       "      <td>2018</td>\n",
       "      <td>7</td>\n",
       "      <td>0</td>\n",
       "      <td>1</td>\n",
       "    </tr>\n",
       "    <tr>\n",
       "      <th>2</th>\n",
       "      <td>274900</td>\n",
       "      <td>14</td>\n",
       "      <td>2</td>\n",
       "      <td>0</td>\n",
       "      <td>No</td>\n",
       "      <td>NW</td>\n",
       "      <td>Cache</td>\n",
       "      <td>Conventional</td>\n",
       "      <td>3</td>\n",
       "      <td>1</td>\n",
       "      <td>2016</td>\n",
       "      <td>1980</td>\n",
       "      <td>84335</td>\n",
       "      <td>2018</td>\n",
       "      <td>11</td>\n",
       "      <td>0</td>\n",
       "      <td>1</td>\n",
       "    </tr>\n",
       "    <tr>\n",
       "      <th>3</th>\n",
       "      <td>175000</td>\n",
       "      <td>16</td>\n",
       "      <td>1</td>\n",
       "      <td>0</td>\n",
       "      <td>No</td>\n",
       "      <td>NW</td>\n",
       "      <td>Cache</td>\n",
       "      <td>USDA Rural Development</td>\n",
       "      <td>4</td>\n",
       "      <td>1</td>\n",
       "      <td>1920</td>\n",
       "      <td>1978</td>\n",
       "      <td>84335</td>\n",
       "      <td>2018</td>\n",
       "      <td>6</td>\n",
       "      <td>0</td>\n",
       "      <td>1</td>\n",
       "    </tr>\n",
       "    <tr>\n",
       "      <th>4</th>\n",
       "      <td>179000</td>\n",
       "      <td>29</td>\n",
       "      <td>0</td>\n",
       "      <td>0</td>\n",
       "      <td>No</td>\n",
       "      <td>NW</td>\n",
       "      <td>Cache</td>\n",
       "      <td>Cash</td>\n",
       "      <td>4</td>\n",
       "      <td>2</td>\n",
       "      <td>1329</td>\n",
       "      <td>1976</td>\n",
       "      <td>84335</td>\n",
       "      <td>2018</td>\n",
       "      <td>9</td>\n",
       "      <td>0</td>\n",
       "      <td>1</td>\n",
       "    </tr>\n",
       "  </tbody>\n",
       "</table>\n",
       "</div>"
      ],
      "text/plain": [
       "   Sold Price  DOM  Garage Capacity  HOA Fee Irregular Shape Quadrant  \\\n",
       "0      176000    5                2        0              No       NW   \n",
       "1      225000    6                2        0              No       NW   \n",
       "2      274900   14                2        0              No       NW   \n",
       "3      175000   16                1        0              No       NW   \n",
       "4      179000   29                0        0              No       NW   \n",
       "\n",
       "  School District              Sold Terms  Total Bedrooms  Total Bathrooms  \\\n",
       "0           Cache                     FHA               3                1   \n",
       "1           Cache            Conventional               4                2   \n",
       "2           Cache            Conventional               3                1   \n",
       "3           Cache  USDA Rural Development               4                1   \n",
       "4           Cache                    Cash               4                2   \n",
       "\n",
       "   Total Square Feet  Year Built    Zip  year_sold  month_sold  \\\n",
       "0               1031        1974  84335       2018           9   \n",
       "1               2091        1995  84335       2018           7   \n",
       "2               2016        1980  84335       2018          11   \n",
       "3               1920        1978  84335       2018           6   \n",
       "4               1329        1976  84335       2018           9   \n",
       "\n",
       "   built_after_2000  liquid  \n",
       "0                 0       1  \n",
       "1                 0       1  \n",
       "2                 0       1  \n",
       "3                 0       1  \n",
       "4                 0       1  "
      ]
     },
     "execution_count": 41,
     "metadata": {},
     "output_type": "execute_result"
    }
   ],
   "source": [
    "df[\"liquid\"] = pd.NaT\n",
    "liquid = []\n",
    "for row in df['DOM']:\n",
    "    if row < np.average(df['DOM']):\n",
    "        liquid.append(1)\n",
    "    else:\n",
    "        liquid.append(0)\n",
    "df['liquid'] = liquid\n",
    "df.head()"
   ]
  },
  {
   "cell_type": "code",
   "execution_count": 42,
   "metadata": {},
   "outputs": [],
   "source": [
    "categorical = ['HOA Fee', 'Irregular Shape', 'Quadrant', 'School District', 'Sold Terms', 'Year Built', 'Zip', 'year_sold', 'month_sold', 'built_after_2000', 'liquid']\n",
    "\n",
    "for col in categorical: \n",
    "    df[col] = df[col].astype(\"category\")"
   ]
  },
  {
   "cell_type": "code",
   "execution_count": 43,
   "metadata": {},
   "outputs": [
    {
     "data": {
      "text/html": [
       "<div>\n",
       "<style scoped>\n",
       "    .dataframe tbody tr th:only-of-type {\n",
       "        vertical-align: middle;\n",
       "    }\n",
       "\n",
       "    .dataframe tbody tr th {\n",
       "        vertical-align: top;\n",
       "    }\n",
       "\n",
       "    .dataframe thead th {\n",
       "        text-align: right;\n",
       "    }\n",
       "</style>\n",
       "<table border=\"1\" class=\"dataframe\">\n",
       "  <thead>\n",
       "    <tr style=\"text-align: right;\">\n",
       "      <th>liquid</th>\n",
       "      <th>0</th>\n",
       "      <th>1</th>\n",
       "    </tr>\n",
       "    <tr>\n",
       "      <th>liquid</th>\n",
       "      <th></th>\n",
       "      <th></th>\n",
       "    </tr>\n",
       "  </thead>\n",
       "  <tbody>\n",
       "    <tr>\n",
       "      <th>0</th>\n",
       "      <td>34.355231</td>\n",
       "      <td>0.000000</td>\n",
       "    </tr>\n",
       "    <tr>\n",
       "      <th>1</th>\n",
       "      <td>0.000000</td>\n",
       "      <td>65.644769</td>\n",
       "    </tr>\n",
       "  </tbody>\n",
       "</table>\n",
       "</div>"
      ],
      "text/plain": [
       "liquid          0          1\n",
       "liquid                      \n",
       "0       34.355231   0.000000\n",
       "1        0.000000  65.644769"
      ]
     },
     "execution_count": 43,
     "metadata": {},
     "output_type": "execute_result"
    }
   ],
   "source": [
    "pd.crosstab(df['liquid'],df['liquid'], normalize='all')*100"
   ]
  },
  {
   "cell_type": "markdown",
   "metadata": {},
   "source": [
    "With the values being 65/34 I would say that this relativley balanced."
   ]
  },
  {
   "cell_type": "code",
   "execution_count": 44,
   "metadata": {},
   "outputs": [],
   "source": [
    "df = pd.get_dummies(df, drop_first=True)"
   ]
  },
  {
   "cell_type": "markdown",
   "metadata": {},
   "source": [
    "### Part 2"
   ]
  },
  {
   "cell_type": "code",
   "execution_count": 45,
   "metadata": {},
   "outputs": [],
   "source": [
    "y = df['liquid_1']\n",
    "X = df.drop('liquid_1', axis=1) # becareful inplace= False\n",
    "\n",
    "from sklearn.model_selection import train_test_split\n",
    "X_train, X_test, y_train, y_test = train_test_split(X, y, test_size=0.2, random_state=rand_state)"
   ]
  },
  {
   "cell_type": "markdown",
   "metadata": {},
   "source": [
    "### Part 3"
   ]
  },
  {
   "cell_type": "code",
   "execution_count": 46,
   "metadata": {},
   "outputs": [
    {
     "data": {
      "text/html": [
       "<div>\n",
       "<style scoped>\n",
       "    .dataframe tbody tr th:only-of-type {\n",
       "        vertical-align: middle;\n",
       "    }\n",
       "\n",
       "    .dataframe tbody tr th {\n",
       "        vertical-align: top;\n",
       "    }\n",
       "\n",
       "    .dataframe thead th {\n",
       "        text-align: right;\n",
       "    }\n",
       "</style>\n",
       "<table border=\"1\" class=\"dataframe\">\n",
       "  <thead>\n",
       "    <tr style=\"text-align: right;\">\n",
       "      <th></th>\n",
       "      <th>y_test</th>\n",
       "      <th>y_hat</th>\n",
       "    </tr>\n",
       "  </thead>\n",
       "  <tbody>\n",
       "    <tr>\n",
       "      <th>3469</th>\n",
       "      <td>1</td>\n",
       "      <td>1</td>\n",
       "    </tr>\n",
       "    <tr>\n",
       "      <th>3227</th>\n",
       "      <td>0</td>\n",
       "      <td>1</td>\n",
       "    </tr>\n",
       "    <tr>\n",
       "      <th>3058</th>\n",
       "      <td>1</td>\n",
       "      <td>1</td>\n",
       "    </tr>\n",
       "    <tr>\n",
       "      <th>3955</th>\n",
       "      <td>0</td>\n",
       "      <td>1</td>\n",
       "    </tr>\n",
       "    <tr>\n",
       "      <th>1570</th>\n",
       "      <td>1</td>\n",
       "      <td>1</td>\n",
       "    </tr>\n",
       "    <tr>\n",
       "      <th>42</th>\n",
       "      <td>0</td>\n",
       "      <td>1</td>\n",
       "    </tr>\n",
       "    <tr>\n",
       "      <th>2397</th>\n",
       "      <td>1</td>\n",
       "      <td>1</td>\n",
       "    </tr>\n",
       "    <tr>\n",
       "      <th>3696</th>\n",
       "      <td>1</td>\n",
       "      <td>1</td>\n",
       "    </tr>\n",
       "    <tr>\n",
       "      <th>942</th>\n",
       "      <td>1</td>\n",
       "      <td>1</td>\n",
       "    </tr>\n",
       "    <tr>\n",
       "      <th>4052</th>\n",
       "      <td>1</td>\n",
       "      <td>1</td>\n",
       "    </tr>\n",
       "    <tr>\n",
       "      <th>2567</th>\n",
       "      <td>0</td>\n",
       "      <td>1</td>\n",
       "    </tr>\n",
       "    <tr>\n",
       "      <th>2276</th>\n",
       "      <td>1</td>\n",
       "      <td>1</td>\n",
       "    </tr>\n",
       "    <tr>\n",
       "      <th>634</th>\n",
       "      <td>0</td>\n",
       "      <td>1</td>\n",
       "    </tr>\n",
       "    <tr>\n",
       "      <th>1891</th>\n",
       "      <td>0</td>\n",
       "      <td>1</td>\n",
       "    </tr>\n",
       "    <tr>\n",
       "      <th>3483</th>\n",
       "      <td>1</td>\n",
       "      <td>1</td>\n",
       "    </tr>\n",
       "    <tr>\n",
       "      <th>2051</th>\n",
       "      <td>0</td>\n",
       "      <td>1</td>\n",
       "    </tr>\n",
       "    <tr>\n",
       "      <th>1904</th>\n",
       "      <td>0</td>\n",
       "      <td>1</td>\n",
       "    </tr>\n",
       "    <tr>\n",
       "      <th>1473</th>\n",
       "      <td>1</td>\n",
       "      <td>1</td>\n",
       "    </tr>\n",
       "    <tr>\n",
       "      <th>1537</th>\n",
       "      <td>1</td>\n",
       "      <td>1</td>\n",
       "    </tr>\n",
       "    <tr>\n",
       "      <th>1973</th>\n",
       "      <td>0</td>\n",
       "      <td>1</td>\n",
       "    </tr>\n",
       "  </tbody>\n",
       "</table>\n",
       "</div>"
      ],
      "text/plain": [
       "      y_test  y_hat\n",
       "3469       1      1\n",
       "3227       0      1\n",
       "3058       1      1\n",
       "3955       0      1\n",
       "1570       1      1\n",
       "42         0      1\n",
       "2397       1      1\n",
       "3696       1      1\n",
       "942        1      1\n",
       "4052       1      1\n",
       "2567       0      1\n",
       "2276       1      1\n",
       "634        0      1\n",
       "1891       0      1\n",
       "3483       1      1\n",
       "2051       0      1\n",
       "1904       0      1\n",
       "1473       1      1\n",
       "1537       1      1\n",
       "1973       0      1"
      ]
     },
     "execution_count": 46,
     "metadata": {},
     "output_type": "execute_result"
    }
   ],
   "source": [
    "from sklearn.svm import SVC\n",
    "# Fitting SVM regression to the Training set\n",
    "SVM_classification = SVC()\n",
    "SVM_classification.fit(X_train, y_train)\n",
    "# Predicting the Test set results\n",
    "y_hat = SVM_classification.predict(X_test)\n",
    "predictions = pd.DataFrame({ 'y_test':y_test,'y_hat':y_hat})\n",
    "predictions.tail(20)"
   ]
  },
  {
   "cell_type": "code",
   "execution_count": 47,
   "metadata": {},
   "outputs": [],
   "source": [
    "from sklearn.metrics import confusion_matrix\n",
    "from sklearn.metrics import accuracy_score, recall_score, precision_score, f1_score, matthews_corrcoef\n",
    "\n",
    "\n",
    "\n",
    "def my_SVM_report(X_train, y_train, X_test,y_test, C=1,gamma='scale' ,kernel='rbf', class_weight=None):\n",
    "    svc= SVC(C=C, gamma=gamma, kernel=kernel, class_weight=class_weight)\n",
    "    svc.fit(X_train, y_train)\n",
    "    y_hat = svc.predict(X_test)\n",
    "    \n",
    "    cm = confusion_matrix(y_test, y_hat)\n",
    "    accuracy = round(accuracy_score(y_test,y_hat) ,4)\n",
    "    error_rate = round(1-accuracy,4)\n",
    "    precision = round(precision_score(y_test,y_hat),2)\n",
    "    recall = round(recall_score(y_test,y_hat),2)\n",
    "    f1score = round(f1_score(y_test,y_hat),2)\n",
    "    mcc     = round(matthews_corrcoef(y_test,y_hat),2)\n",
    "    cm_labled = pd.DataFrame(cm, index=['Actual : negative ','Actual : positive'], columns=['Predict : negative','Predict :positive '])\n",
    "    \n",
    "    print(\"-----------------------------------------\")\n",
    "    print('Accuracy  = {}'.format(accuracy))\n",
    "    print('Error_rate  = {}'.format(error_rate))\n",
    "    print('Precision = {}'.format(precision))\n",
    "    print('Recall    = {}'.format(recall))\n",
    "    print('f1_score  = {}'.format(f1score))\n",
    "    print('MCC       = {}'.format(mcc))\n",
    "    print(\"-----------------------------------------\")\n",
    "    return cm_labled"
   ]
  },
  {
   "cell_type": "code",
   "execution_count": 48,
   "metadata": {},
   "outputs": [
    {
     "name": "stdout",
     "output_type": "stream",
     "text": [
      "-----------------------------------------\n",
      "Accuracy  = 0.6399\n",
      "Error_rate  = 0.3601\n",
      "Precision = 0.65\n",
      "Recall    = 0.98\n",
      "f1_score  = 0.78\n",
      "MCC       = -0.0\n",
      "-----------------------------------------\n"
     ]
    },
    {
     "data": {
      "text/html": [
       "<div>\n",
       "<style scoped>\n",
       "    .dataframe tbody tr th:only-of-type {\n",
       "        vertical-align: middle;\n",
       "    }\n",
       "\n",
       "    .dataframe tbody tr th {\n",
       "        vertical-align: top;\n",
       "    }\n",
       "\n",
       "    .dataframe thead th {\n",
       "        text-align: right;\n",
       "    }\n",
       "</style>\n",
       "<table border=\"1\" class=\"dataframe\">\n",
       "  <thead>\n",
       "    <tr style=\"text-align: right;\">\n",
       "      <th></th>\n",
       "      <th>Predict : negative</th>\n",
       "      <th>Predict :positive</th>\n",
       "    </tr>\n",
       "  </thead>\n",
       "  <tbody>\n",
       "    <tr>\n",
       "      <th>Actual : negative</th>\n",
       "      <td>6</td>\n",
       "      <td>285</td>\n",
       "    </tr>\n",
       "    <tr>\n",
       "      <th>Actual : positive</th>\n",
       "      <td>11</td>\n",
       "      <td>520</td>\n",
       "    </tr>\n",
       "  </tbody>\n",
       "</table>\n",
       "</div>"
      ],
      "text/plain": [
       "                    Predict : negative  Predict :positive \n",
       "Actual : negative                    6                 285\n",
       "Actual : positive                   11                 520"
      ]
     },
     "execution_count": 48,
     "metadata": {},
     "output_type": "execute_result"
    }
   ],
   "source": [
    "my_SVM_report(X_train, y_train, X_test,y_test, kernel='rbf')"
   ]
  },
  {
   "cell_type": "markdown",
   "metadata": {},
   "source": [
    "I would say that given that the data is balanced we can use the accuracy, the model perform betters than a random (50%) skill. However, I would say that false negative( predicted no liquid, but actually liquid) has bigger weight than a false positive, therefore, I would use F1 score or Matthew correlation coefffeint"
   ]
  },
  {
   "cell_type": "markdown",
   "metadata": {},
   "source": [
    "You cannot plot ROC curve and AUC score using SVM because there is no probability."
   ]
  },
  {
   "cell_type": "markdown",
   "metadata": {},
   "source": [
    "### Part 4"
   ]
  },
  {
   "cell_type": "code",
   "execution_count": 50,
   "metadata": {},
   "outputs": [
    {
     "data": {
      "text/plain": [
       "GridSearchCV(cv=5, estimator=SVC(),\n",
       "             param_grid={'C': [1, 100, 1000], 'gamma': ['scaled', 0.01, 0.001],\n",
       "                         'kernel': ['rbf']},\n",
       "             verbose=2)"
      ]
     },
     "execution_count": 50,
     "metadata": {},
     "output_type": "execute_result"
    }
   ],
   "source": [
    "my_param_grid = {'C': [1,100,1000], 'gamma': ['scaled',0.01,0.001], 'kernel': ['rbf']} \n",
    "from sklearn.model_selection import GridSearchCV\n",
    "GridSearchCV(estimator=SVC(),param_grid= my_param_grid, refit = True, verbose=2, cv=5 )"
   ]
  },
  {
   "cell_type": "code",
   "execution_count": 51,
   "metadata": {},
   "outputs": [
    {
     "name": "stdout",
     "output_type": "stream",
     "text": [
      "Fitting 5 folds for each of 9 candidates, totalling 45 fits\n",
      "[CV] C=1, gamma=scaled, kernel=rbf ...................................\n",
      "[CV] .................... C=1, gamma=scaled, kernel=rbf, total=   0.0s\n",
      "[CV] C=1, gamma=scaled, kernel=rbf ...................................\n",
      "[CV] .................... C=1, gamma=scaled, kernel=rbf, total=   0.0s\n",
      "[CV] C=1, gamma=scaled, kernel=rbf ...................................\n",
      "[CV] .................... C=1, gamma=scaled, kernel=rbf, total=   0.0s\n",
      "[CV] C=1, gamma=scaled, kernel=rbf ...................................\n"
     ]
    },
    {
     "name": "stderr",
     "output_type": "stream",
     "text": [
      "[Parallel(n_jobs=1)]: Using backend SequentialBackend with 1 concurrent workers.\n",
      "[Parallel(n_jobs=1)]: Done   1 out of   1 | elapsed:    0.1s remaining:    0.0s\n"
     ]
    },
    {
     "name": "stdout",
     "output_type": "stream",
     "text": [
      "[CV] .................... C=1, gamma=scaled, kernel=rbf, total=   0.1s\n",
      "[CV] C=1, gamma=scaled, kernel=rbf ...................................\n",
      "[CV] .................... C=1, gamma=scaled, kernel=rbf, total=   0.0s\n",
      "[CV] C=1, gamma=0.01, kernel=rbf .....................................\n",
      "[CV] ...................... C=1, gamma=0.01, kernel=rbf, total=   5.6s\n",
      "[CV] C=1, gamma=0.01, kernel=rbf .....................................\n",
      "[CV] ...................... C=1, gamma=0.01, kernel=rbf, total=   5.8s\n",
      "[CV] C=1, gamma=0.01, kernel=rbf .....................................\n",
      "[CV] ...................... C=1, gamma=0.01, kernel=rbf, total=   5.8s\n",
      "[CV] C=1, gamma=0.01, kernel=rbf .....................................\n",
      "[CV] ...................... C=1, gamma=0.01, kernel=rbf, total=   5.5s\n",
      "[CV] C=1, gamma=0.01, kernel=rbf .....................................\n",
      "[CV] ...................... C=1, gamma=0.01, kernel=rbf, total=   5.6s\n",
      "[CV] C=1, gamma=0.001, kernel=rbf ....................................\n",
      "[CV] ..................... C=1, gamma=0.001, kernel=rbf, total=   5.4s\n",
      "[CV] C=1, gamma=0.001, kernel=rbf ....................................\n",
      "[CV] ..................... C=1, gamma=0.001, kernel=rbf, total=   5.5s\n",
      "[CV] C=1, gamma=0.001, kernel=rbf ....................................\n",
      "[CV] ..................... C=1, gamma=0.001, kernel=rbf, total=   5.3s\n",
      "[CV] C=1, gamma=0.001, kernel=rbf ....................................\n",
      "[CV] ..................... C=1, gamma=0.001, kernel=rbf, total=   5.3s\n",
      "[CV] C=1, gamma=0.001, kernel=rbf ....................................\n",
      "[CV] ..................... C=1, gamma=0.001, kernel=rbf, total=   5.6s\n",
      "[CV] C=100, gamma=scaled, kernel=rbf .................................\n",
      "[CV] .................. C=100, gamma=scaled, kernel=rbf, total=   0.0s\n",
      "[CV] C=100, gamma=scaled, kernel=rbf .................................\n",
      "[CV] .................. C=100, gamma=scaled, kernel=rbf, total=   0.0s\n",
      "[CV] C=100, gamma=scaled, kernel=rbf .................................\n",
      "[CV] .................. C=100, gamma=scaled, kernel=rbf, total=   0.0s\n",
      "[CV] C=100, gamma=scaled, kernel=rbf .................................\n",
      "[CV] .................. C=100, gamma=scaled, kernel=rbf, total=   0.0s\n",
      "[CV] C=100, gamma=scaled, kernel=rbf .................................\n",
      "[CV] .................. C=100, gamma=scaled, kernel=rbf, total=   0.0s\n",
      "[CV] C=100, gamma=0.01, kernel=rbf ...................................\n",
      "[CV] .................... C=100, gamma=0.01, kernel=rbf, total=   5.5s\n",
      "[CV] C=100, gamma=0.01, kernel=rbf ...................................\n",
      "[CV] .................... C=100, gamma=0.01, kernel=rbf, total=   5.5s\n",
      "[CV] C=100, gamma=0.01, kernel=rbf ...................................\n",
      "[CV] .................... C=100, gamma=0.01, kernel=rbf, total=   5.8s\n",
      "[CV] C=100, gamma=0.01, kernel=rbf ...................................\n",
      "[CV] .................... C=100, gamma=0.01, kernel=rbf, total=   5.8s\n",
      "[CV] C=100, gamma=0.01, kernel=rbf ...................................\n",
      "[CV] .................... C=100, gamma=0.01, kernel=rbf, total=   5.0s\n",
      "[CV] C=100, gamma=0.001, kernel=rbf ..................................\n",
      "[CV] ................... C=100, gamma=0.001, kernel=rbf, total=   5.3s\n",
      "[CV] C=100, gamma=0.001, kernel=rbf ..................................\n",
      "[CV] ................... C=100, gamma=0.001, kernel=rbf, total=   5.0s\n",
      "[CV] C=100, gamma=0.001, kernel=rbf ..................................\n",
      "[CV] ................... C=100, gamma=0.001, kernel=rbf, total=   5.4s\n",
      "[CV] C=100, gamma=0.001, kernel=rbf ..................................\n",
      "[CV] ................... C=100, gamma=0.001, kernel=rbf, total=   5.0s\n",
      "[CV] C=100, gamma=0.001, kernel=rbf ..................................\n",
      "[CV] ................... C=100, gamma=0.001, kernel=rbf, total=   4.5s\n",
      "[CV] C=1000, gamma=scaled, kernel=rbf ................................\n",
      "[CV] ................. C=1000, gamma=scaled, kernel=rbf, total=   0.0s\n",
      "[CV] C=1000, gamma=scaled, kernel=rbf ................................\n",
      "[CV] ................. C=1000, gamma=scaled, kernel=rbf, total=   0.0s\n",
      "[CV] C=1000, gamma=scaled, kernel=rbf ................................\n",
      "[CV] ................. C=1000, gamma=scaled, kernel=rbf, total=   0.0s\n",
      "[CV] C=1000, gamma=scaled, kernel=rbf ................................\n",
      "[CV] ................. C=1000, gamma=scaled, kernel=rbf, total=   0.0s\n",
      "[CV] C=1000, gamma=scaled, kernel=rbf ................................\n",
      "[CV] ................. C=1000, gamma=scaled, kernel=rbf, total=   0.0s\n",
      "[CV] C=1000, gamma=0.01, kernel=rbf ..................................\n",
      "[CV] ................... C=1000, gamma=0.01, kernel=rbf, total=   4.6s\n",
      "[CV] C=1000, gamma=0.01, kernel=rbf ..................................\n",
      "[CV] ................... C=1000, gamma=0.01, kernel=rbf, total=   5.1s\n",
      "[CV] C=1000, gamma=0.01, kernel=rbf ..................................\n",
      "[CV] ................... C=1000, gamma=0.01, kernel=rbf, total=   5.8s\n",
      "[CV] C=1000, gamma=0.01, kernel=rbf ..................................\n",
      "[CV] ................... C=1000, gamma=0.01, kernel=rbf, total=   5.3s\n",
      "[CV] C=1000, gamma=0.01, kernel=rbf ..................................\n",
      "[CV] ................... C=1000, gamma=0.01, kernel=rbf, total=   5.6s\n",
      "[CV] C=1000, gamma=0.001, kernel=rbf .................................\n",
      "[CV] .................. C=1000, gamma=0.001, kernel=rbf, total=   4.4s\n",
      "[CV] C=1000, gamma=0.001, kernel=rbf .................................\n",
      "[CV] .................. C=1000, gamma=0.001, kernel=rbf, total=   4.3s\n",
      "[CV] C=1000, gamma=0.001, kernel=rbf .................................\n",
      "[CV] .................. C=1000, gamma=0.001, kernel=rbf, total=   4.3s\n",
      "[CV] C=1000, gamma=0.001, kernel=rbf .................................\n",
      "[CV] .................. C=1000, gamma=0.001, kernel=rbf, total=   4.2s\n",
      "[CV] C=1000, gamma=0.001, kernel=rbf .................................\n",
      "[CV] .................. C=1000, gamma=0.001, kernel=rbf, total=   4.3s\n"
     ]
    },
    {
     "name": "stderr",
     "output_type": "stream",
     "text": [
      "[Parallel(n_jobs=1)]: Done  45 out of  45 | elapsed:  2.6min finished\n"
     ]
    },
    {
     "data": {
      "text/plain": [
       "GridSearchCV(cv=5, estimator=SVC(),\n",
       "             param_grid={'C': [1, 100, 1000], 'gamma': ['scaled', 0.01, 0.001],\n",
       "                         'kernel': ['rbf']},\n",
       "             scoring=make_scorer(f1_score), verbose=2)"
      ]
     },
     "execution_count": 51,
     "metadata": {},
     "output_type": "execute_result"
    }
   ],
   "source": [
    "from sklearn.metrics import make_scorer, f1_score\n",
    "f1 = make_scorer(f1_score)\n",
    "grid = GridSearchCV(estimator=SVC(),param_grid= my_param_grid, refit = True, verbose=2, cv=5 , scoring=f1)\n",
    "# verbose just means the text output describing the process.  (the greater the number the more detail you will get).\n",
    "# May take a while!\n",
    "grid.fit(X_train,y_train)"
   ]
  },
  {
   "cell_type": "markdown",
   "metadata": {},
   "source": [
    "### Part 5"
   ]
  },
  {
   "cell_type": "code",
   "execution_count": 52,
   "metadata": {},
   "outputs": [
    {
     "data": {
      "text/html": [
       "<div>\n",
       "<style scoped>\n",
       "    .dataframe tbody tr th:only-of-type {\n",
       "        vertical-align: middle;\n",
       "    }\n",
       "\n",
       "    .dataframe tbody tr th {\n",
       "        vertical-align: top;\n",
       "    }\n",
       "\n",
       "    .dataframe thead th {\n",
       "        text-align: right;\n",
       "    }\n",
       "</style>\n",
       "<table border=\"1\" class=\"dataframe\">\n",
       "  <thead>\n",
       "    <tr style=\"text-align: right;\">\n",
       "      <th></th>\n",
       "      <th>y_test</th>\n",
       "      <th>y_hat</th>\n",
       "      <th>y_hat_optimized</th>\n",
       "    </tr>\n",
       "  </thead>\n",
       "  <tbody>\n",
       "    <tr>\n",
       "      <th>3469</th>\n",
       "      <td>1</td>\n",
       "      <td>1</td>\n",
       "      <td>1</td>\n",
       "    </tr>\n",
       "    <tr>\n",
       "      <th>3227</th>\n",
       "      <td>0</td>\n",
       "      <td>1</td>\n",
       "      <td>1</td>\n",
       "    </tr>\n",
       "    <tr>\n",
       "      <th>3058</th>\n",
       "      <td>1</td>\n",
       "      <td>1</td>\n",
       "      <td>1</td>\n",
       "    </tr>\n",
       "    <tr>\n",
       "      <th>3955</th>\n",
       "      <td>0</td>\n",
       "      <td>1</td>\n",
       "      <td>1</td>\n",
       "    </tr>\n",
       "    <tr>\n",
       "      <th>1570</th>\n",
       "      <td>1</td>\n",
       "      <td>1</td>\n",
       "      <td>1</td>\n",
       "    </tr>\n",
       "    <tr>\n",
       "      <th>42</th>\n",
       "      <td>0</td>\n",
       "      <td>1</td>\n",
       "      <td>1</td>\n",
       "    </tr>\n",
       "    <tr>\n",
       "      <th>2397</th>\n",
       "      <td>1</td>\n",
       "      <td>1</td>\n",
       "      <td>1</td>\n",
       "    </tr>\n",
       "    <tr>\n",
       "      <th>3696</th>\n",
       "      <td>1</td>\n",
       "      <td>1</td>\n",
       "      <td>1</td>\n",
       "    </tr>\n",
       "    <tr>\n",
       "      <th>942</th>\n",
       "      <td>1</td>\n",
       "      <td>1</td>\n",
       "      <td>1</td>\n",
       "    </tr>\n",
       "    <tr>\n",
       "      <th>4052</th>\n",
       "      <td>1</td>\n",
       "      <td>1</td>\n",
       "      <td>1</td>\n",
       "    </tr>\n",
       "    <tr>\n",
       "      <th>2567</th>\n",
       "      <td>0</td>\n",
       "      <td>1</td>\n",
       "      <td>1</td>\n",
       "    </tr>\n",
       "    <tr>\n",
       "      <th>2276</th>\n",
       "      <td>1</td>\n",
       "      <td>1</td>\n",
       "      <td>1</td>\n",
       "    </tr>\n",
       "    <tr>\n",
       "      <th>634</th>\n",
       "      <td>0</td>\n",
       "      <td>1</td>\n",
       "      <td>1</td>\n",
       "    </tr>\n",
       "    <tr>\n",
       "      <th>1891</th>\n",
       "      <td>0</td>\n",
       "      <td>1</td>\n",
       "      <td>1</td>\n",
       "    </tr>\n",
       "    <tr>\n",
       "      <th>3483</th>\n",
       "      <td>1</td>\n",
       "      <td>1</td>\n",
       "      <td>1</td>\n",
       "    </tr>\n",
       "    <tr>\n",
       "      <th>2051</th>\n",
       "      <td>0</td>\n",
       "      <td>1</td>\n",
       "      <td>1</td>\n",
       "    </tr>\n",
       "    <tr>\n",
       "      <th>1904</th>\n",
       "      <td>0</td>\n",
       "      <td>1</td>\n",
       "      <td>1</td>\n",
       "    </tr>\n",
       "    <tr>\n",
       "      <th>1473</th>\n",
       "      <td>1</td>\n",
       "      <td>1</td>\n",
       "      <td>1</td>\n",
       "    </tr>\n",
       "    <tr>\n",
       "      <th>1537</th>\n",
       "      <td>1</td>\n",
       "      <td>1</td>\n",
       "      <td>0</td>\n",
       "    </tr>\n",
       "    <tr>\n",
       "      <th>1973</th>\n",
       "      <td>0</td>\n",
       "      <td>1</td>\n",
       "      <td>1</td>\n",
       "    </tr>\n",
       "  </tbody>\n",
       "</table>\n",
       "</div>"
      ],
      "text/plain": [
       "      y_test  y_hat  y_hat_optimized\n",
       "3469       1      1                1\n",
       "3227       0      1                1\n",
       "3058       1      1                1\n",
       "3955       0      1                1\n",
       "1570       1      1                1\n",
       "42         0      1                1\n",
       "2397       1      1                1\n",
       "3696       1      1                1\n",
       "942        1      1                1\n",
       "4052       1      1                1\n",
       "2567       0      1                1\n",
       "2276       1      1                1\n",
       "634        0      1                1\n",
       "1891       0      1                1\n",
       "3483       1      1                1\n",
       "2051       0      1                1\n",
       "1904       0      1                1\n",
       "1473       1      1                1\n",
       "1537       1      1                0\n",
       "1973       0      1                1"
      ]
     },
     "execution_count": 52,
     "metadata": {},
     "output_type": "execute_result"
    }
   ],
   "source": [
    "grid.best_params_\n",
    "grid.best_estimator_\n",
    "grid.cv_results_\n",
    "y_hat_optimized = grid.predict(X_test)\n",
    "predictions['y_hat_optimized'] = y_hat_optimized\n",
    "predictions.tail(20)"
   ]
  },
  {
   "cell_type": "markdown",
   "metadata": {},
   "source": []
  },
  {
   "cell_type": "markdown",
   "metadata": {},
   "source": [
    "### Part 6"
   ]
  },
  {
   "cell_type": "code",
   "execution_count": 53,
   "metadata": {},
   "outputs": [
    {
     "name": "stdout",
     "output_type": "stream",
     "text": [
      "-----------------------------------------\n",
      "Accuracy  = 0.6582\n",
      "Error_rate  = 0.3418\n",
      "Precision = 0.66\n",
      "Recall    = 0.99\n",
      "f1_score  = 0.79\n",
      "MCC       = 0.13\n",
      "-----------------------------------------\n"
     ]
    },
    {
     "data": {
      "text/html": [
       "<div>\n",
       "<style scoped>\n",
       "    .dataframe tbody tr th:only-of-type {\n",
       "        vertical-align: middle;\n",
       "    }\n",
       "\n",
       "    .dataframe tbody tr th {\n",
       "        vertical-align: top;\n",
       "    }\n",
       "\n",
       "    .dataframe thead th {\n",
       "        text-align: right;\n",
       "    }\n",
       "</style>\n",
       "<table border=\"1\" class=\"dataframe\">\n",
       "  <thead>\n",
       "    <tr style=\"text-align: right;\">\n",
       "      <th></th>\n",
       "      <th>Predict : negative</th>\n",
       "      <th>Predict :positive</th>\n",
       "    </tr>\n",
       "  </thead>\n",
       "  <tbody>\n",
       "    <tr>\n",
       "      <th>Actual : negative</th>\n",
       "      <td>17</td>\n",
       "      <td>274</td>\n",
       "    </tr>\n",
       "    <tr>\n",
       "      <th>Actual : positive</th>\n",
       "      <td>7</td>\n",
       "      <td>524</td>\n",
       "    </tr>\n",
       "  </tbody>\n",
       "</table>\n",
       "</div>"
      ],
      "text/plain": [
       "                    Predict : negative  Predict :positive \n",
       "Actual : negative                   17                 274\n",
       "Actual : positive                    7                 524"
      ]
     },
     "execution_count": 53,
     "metadata": {},
     "output_type": "execute_result"
    }
   ],
   "source": [
    "my_SVM_report(X_train, y_train, X_test,y_test,C=1000, gamma=0.001)"
   ]
  },
  {
   "cell_type": "markdown",
   "metadata": {},
   "source": [
    "### Part 7"
   ]
  },
  {
   "cell_type": "code",
   "execution_count": 54,
   "metadata": {},
   "outputs": [
    {
     "data": {
      "text/plain": [
       "0.6737"
      ]
     },
     "execution_count": 54,
     "metadata": {},
     "output_type": "execute_result"
    }
   ],
   "source": [
    "from sklearn.model_selection import cross_val_score\n",
    "accuracy = cross_val_score(estimator = SVC(C=1000, gamma=0.001), X = X_train, y = y_train, cv = 5 , scoring=\"accuracy\" )\n",
    "accuracy\n",
    "accuracy_CV=round(accuracy.mean(),4)\n",
    "accuracy_CV"
   ]
  },
  {
   "cell_type": "markdown",
   "metadata": {},
   "source": [
    "### Part 8"
   ]
  },
  {
   "cell_type": "markdown",
   "metadata": {},
   "source": [
    "It depends what he is doing with the homes. If he wants to buy a home or is trying to sell homes, I think Jeff would want to know which houses are more liquid or not so he can see how fast some income should be produced. Using this machine learning model he can find out if a house will sell fast or be on the market for a long time. Knowing this gives him power to decide which houses to try to sell. If he is just trying to buy a home he can use this model to understand how fast he needs to be when trying to buy the home he wants.\n",
    "\n",
    "Real estate has historicailly considered a illiquid asset, However, as a potential real estate investor/asset manager, we need to have a time horizon for an exit"
   ]
  },
  {
   "cell_type": "code",
   "execution_count": null,
   "metadata": {},
   "outputs": [],
   "source": []
  }
 ],
 "metadata": {
  "kernelspec": {
   "display_name": "Python 3",
   "language": "python",
   "name": "python3"
  },
  "language_info": {
   "codemirror_mode": {
    "name": "ipython",
    "version": 3
   },
   "file_extension": ".py",
   "mimetype": "text/x-python",
   "name": "python",
   "nbconvert_exporter": "python",
   "pygments_lexer": "ipython3",
   "version": "3.8.5"
  }
 },
 "nbformat": 4,
 "nbformat_minor": 4
}
